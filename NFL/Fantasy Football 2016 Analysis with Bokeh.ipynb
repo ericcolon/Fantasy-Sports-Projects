{
 "cells": [
  {
   "cell_type": "code",
   "execution_count": 1,
   "metadata": {
    "collapsed": true
   },
   "outputs": [],
   "source": [
    "import pandas\n",
    "import seaborn\n",
    "%matplotlib inline\n",
    "import matplotlib.pyplot as plt\n",
    "from bokeh.plotting import figure, show, output_notebook, output_file, ColumnDataSource \n",
    "from bokeh.charts import Dot, show, output_file\n",
    "from bokeh.models import HoverTool\n",
    "from bokeh.models.widgets import Panel, Tabs\n",
    "import numpy as np"
   ]
  },
  {
   "cell_type": "code",
   "execution_count": 2,
   "metadata": {
    "collapsed": false
   },
   "outputs": [
    {
     "name": "stdout",
     "output_type": "stream",
     "text": [
      "<class 'pandas.core.frame.DataFrame'>\n",
      "RangeIndex: 344 entries, 0 to 343\n",
      "Data columns (total 10 columns):\n",
      "Rank\n",
      "\n",
      "\t\t\t\t\t\t    344 non-null object\n",
      "Player          343 non-null object\n",
      "Pos             343 non-null object\n",
      "Bye             335 non-null float64\n",
      "Best            343 non-null float64\n",
      "Worst           343 non-null float64\n",
      "Avg             343 non-null float64\n",
      "Std Dev         343 non-null float64\n",
      "ADP             292 non-null float64\n",
      "vs. ADP         292 non-null float64\n",
      "dtypes: float64(7), object(3)\n",
      "memory usage: 26.9+ KB\n"
     ]
    }
   ],
   "source": [
    "url = 'http://www.fantasypros.com/nfl/rankings/consensus-cheatsheets.php'\n",
    "player_ranking_table_number = 1\n",
    "\n",
    "#pandas will actually scrape all the tables on the page. After playing around, I figured out we only want table 1. \n",
    "rankings_2016 = pandas.read_html(url)[player_ranking_table_number]\n",
    "rankings_2016.info()"
   ]
  },
  {
   "cell_type": "code",
   "execution_count": 3,
   "metadata": {
    "collapsed": false
   },
   "outputs": [
    {
     "data": {
      "text/html": [
       "<div>\n",
       "<table border=\"1\" class=\"dataframe\">\n",
       "  <thead>\n",
       "    <tr style=\"text-align: right;\">\n",
       "      <th></th>\n",
       "      <th>Rank</th>\n",
       "      <th>Player</th>\n",
       "      <th>Pos</th>\n",
       "      <th>Bye</th>\n",
       "      <th>Best</th>\n",
       "      <th>Worst</th>\n",
       "      <th>Avg</th>\n",
       "      <th>Std Dev</th>\n",
       "      <th>ADP</th>\n",
       "      <th>vs. ADP</th>\n",
       "    </tr>\n",
       "  </thead>\n",
       "  <tbody>\n",
       "    <tr>\n",
       "      <th>0</th>\n",
       "      <td>1</td>\n",
       "      <td>Antonio Brown PIT</td>\n",
       "      <td>WR1</td>\n",
       "      <td>8.0</td>\n",
       "      <td>1.0</td>\n",
       "      <td>4.0</td>\n",
       "      <td>1.4</td>\n",
       "      <td>0.8</td>\n",
       "      <td>1.0</td>\n",
       "      <td>0.0</td>\n",
       "    </tr>\n",
       "    <tr>\n",
       "      <th>1</th>\n",
       "      <td>2</td>\n",
       "      <td>Odell Beckham Jr. NYG</td>\n",
       "      <td>WR2</td>\n",
       "      <td>8.0</td>\n",
       "      <td>2.0</td>\n",
       "      <td>12.0</td>\n",
       "      <td>3.4</td>\n",
       "      <td>1.9</td>\n",
       "      <td>3.0</td>\n",
       "      <td>1.0</td>\n",
       "    </tr>\n",
       "    <tr>\n",
       "      <th>2</th>\n",
       "      <td>3</td>\n",
       "      <td>Julio Jones ATL</td>\n",
       "      <td>WR3</td>\n",
       "      <td>11.0</td>\n",
       "      <td>1.0</td>\n",
       "      <td>9.0</td>\n",
       "      <td>3.8</td>\n",
       "      <td>1.6</td>\n",
       "      <td>5.0</td>\n",
       "      <td>2.0</td>\n",
       "    </tr>\n",
       "    <tr>\n",
       "      <th>3</th>\n",
       "      <td>4</td>\n",
       "      <td>Todd Gurley LA</td>\n",
       "      <td>RB1</td>\n",
       "      <td>8.0</td>\n",
       "      <td>1.0</td>\n",
       "      <td>12.0</td>\n",
       "      <td>4.7</td>\n",
       "      <td>2.7</td>\n",
       "      <td>4.0</td>\n",
       "      <td>0.0</td>\n",
       "    </tr>\n",
       "    <tr>\n",
       "      <th>4</th>\n",
       "      <td>5</td>\n",
       "      <td>David Johnson ARI</td>\n",
       "      <td>RB2</td>\n",
       "      <td>9.0</td>\n",
       "      <td>1.0</td>\n",
       "      <td>19.0</td>\n",
       "      <td>7.4</td>\n",
       "      <td>4.5</td>\n",
       "      <td>7.0</td>\n",
       "      <td>2.0</td>\n",
       "    </tr>\n",
       "  </tbody>\n",
       "</table>\n",
       "</div>"
      ],
      "text/plain": [
       "  Rank\\n\\n\\t\\t\\t\\t\\t\\t                 Player  Pos   Bye  Best  Worst  Avg  \\\n",
       "0                    1      Antonio Brown PIT  WR1   8.0   1.0    4.0  1.4   \n",
       "1                    2  Odell Beckham Jr. NYG  WR2   8.0   2.0   12.0  3.4   \n",
       "2                    3        Julio Jones ATL  WR3  11.0   1.0    9.0  3.8   \n",
       "3                    4         Todd Gurley LA  RB1   8.0   1.0   12.0  4.7   \n",
       "4                    5      David Johnson ARI  RB2   9.0   1.0   19.0  7.4   \n",
       "\n",
       "   Std Dev  ADP  vs. ADP  \n",
       "0      0.8  1.0      0.0  \n",
       "1      1.9  3.0      1.0  \n",
       "2      1.6  5.0      2.0  \n",
       "3      2.7  4.0      0.0  \n",
       "4      4.5  7.0      2.0  "
      ]
     },
     "execution_count": 3,
     "metadata": {},
     "output_type": "execute_result"
    }
   ],
   "source": [
    "rankings_2016.head()"
   ]
  },
  {
   "cell_type": "code",
   "execution_count": 7,
   "metadata": {
    "collapsed": false
   },
   "outputs": [
    {
     "name": "stdout",
     "output_type": "stream",
     "text": [
      "<class 'pandas.core.frame.DataFrame'>\n",
      "RangeIndex: 344 entries, 0 to 343\n",
      "Data columns (total 10 columns):\n",
      "Rank       344 non-null object\n",
      "Player     343 non-null object\n",
      "Pos        343 non-null object\n",
      "Bye        335 non-null float64\n",
      "Best       343 non-null float64\n",
      "Worst      343 non-null float64\n",
      "Avg        343 non-null float64\n",
      "Std Dev    343 non-null float64\n",
      "ADP        292 non-null float64\n",
      "vs. ADP    292 non-null float64\n",
      "dtypes: float64(7), object(3)\n",
      "memory usage: 26.9+ KB\n"
     ]
    }
   ],
   "source": [
    "rankings_2016.columns = [x.strip() for x in rankings_2016.columns]\n",
    "rankings_2016.info()"
   ]
  },
  {
   "cell_type": "code",
   "execution_count": 9,
   "metadata": {
    "collapsed": false
   },
   "outputs": [
    {
     "data": {
      "text/html": [
       "<div>\n",
       "<table border=\"1\" class=\"dataframe\">\n",
       "  <thead>\n",
       "    <tr style=\"text-align: right;\">\n",
       "      <th></th>\n",
       "      <th>Rank</th>\n",
       "      <th>Player</th>\n",
       "      <th>Pos</th>\n",
       "      <th>Bye</th>\n",
       "      <th>Best</th>\n",
       "      <th>Worst</th>\n",
       "      <th>Avg</th>\n",
       "      <th>Std Dev</th>\n",
       "      <th>ADP</th>\n",
       "      <th>vs. ADP</th>\n",
       "    </tr>\n",
       "  </thead>\n",
       "  <tbody>\n",
       "    <tr>\n",
       "      <th>0</th>\n",
       "      <td>1</td>\n",
       "      <td>Antonio Brown PIT</td>\n",
       "      <td>WR1</td>\n",
       "      <td>8.0</td>\n",
       "      <td>1.0</td>\n",
       "      <td>4.0</td>\n",
       "      <td>1.4</td>\n",
       "      <td>0.8</td>\n",
       "      <td>1.0</td>\n",
       "      <td>0.0</td>\n",
       "    </tr>\n",
       "    <tr>\n",
       "      <th>1</th>\n",
       "      <td>2</td>\n",
       "      <td>Odell Beckham Jr. NYG</td>\n",
       "      <td>WR2</td>\n",
       "      <td>8.0</td>\n",
       "      <td>2.0</td>\n",
       "      <td>12.0</td>\n",
       "      <td>3.4</td>\n",
       "      <td>1.9</td>\n",
       "      <td>3.0</td>\n",
       "      <td>1.0</td>\n",
       "    </tr>\n",
       "    <tr>\n",
       "      <th>2</th>\n",
       "      <td>3</td>\n",
       "      <td>Julio Jones ATL</td>\n",
       "      <td>WR3</td>\n",
       "      <td>11.0</td>\n",
       "      <td>1.0</td>\n",
       "      <td>9.0</td>\n",
       "      <td>3.8</td>\n",
       "      <td>1.6</td>\n",
       "      <td>5.0</td>\n",
       "      <td>2.0</td>\n",
       "    </tr>\n",
       "    <tr>\n",
       "      <th>3</th>\n",
       "      <td>4</td>\n",
       "      <td>Todd Gurley LA</td>\n",
       "      <td>RB1</td>\n",
       "      <td>8.0</td>\n",
       "      <td>1.0</td>\n",
       "      <td>12.0</td>\n",
       "      <td>4.7</td>\n",
       "      <td>2.7</td>\n",
       "      <td>4.0</td>\n",
       "      <td>0.0</td>\n",
       "    </tr>\n",
       "    <tr>\n",
       "      <th>4</th>\n",
       "      <td>5</td>\n",
       "      <td>David Johnson ARI</td>\n",
       "      <td>RB2</td>\n",
       "      <td>9.0</td>\n",
       "      <td>1.0</td>\n",
       "      <td>19.0</td>\n",
       "      <td>7.4</td>\n",
       "      <td>4.5</td>\n",
       "      <td>7.0</td>\n",
       "      <td>2.0</td>\n",
       "    </tr>\n",
       "  </tbody>\n",
       "</table>\n",
       "</div>"
      ],
      "text/plain": [
       "  Rank                 Player  Pos   Bye  Best  Worst  Avg  Std Dev  ADP  \\\n",
       "0    1      Antonio Brown PIT  WR1   8.0   1.0    4.0  1.4      0.8  1.0   \n",
       "1    2  Odell Beckham Jr. NYG  WR2   8.0   2.0   12.0  3.4      1.9  3.0   \n",
       "2    3        Julio Jones ATL  WR3  11.0   1.0    9.0  3.8      1.6  5.0   \n",
       "3    4         Todd Gurley LA  RB1   8.0   1.0   12.0  4.7      2.7  4.0   \n",
       "4    5      David Johnson ARI  RB2   9.0   1.0   19.0  7.4      4.5  7.0   \n",
       "\n",
       "   vs. ADP  \n",
       "0      0.0  \n",
       "1      1.0  \n",
       "2      2.0  \n",
       "3      0.0  \n",
       "4      2.0  "
      ]
     },
     "execution_count": 9,
     "metadata": {},
     "output_type": "execute_result"
    }
   ],
   "source": [
    "rankings_2016.dropna(subset=['Pos'],inplace=True)\n",
    "rankings_2016.head()"
   ]
  },
  {
   "cell_type": "code",
   "execution_count": 10,
   "metadata": {
    "collapsed": true
   },
   "outputs": [],
   "source": [
    "rankings_2016['position'] = rankings_2016.Pos.apply(lambda x: x[:2])"
   ]
  },
  {
   "cell_type": "code",
   "execution_count": 11,
   "metadata": {
    "collapsed": true
   },
   "outputs": [],
   "source": [
    "positions = ['QB','RB','WR','TE']\n",
    "rankings_2016 = rankings_2016[rankings_2016.position.apply(lambda x: x in positions)]"
   ]
  },
  {
   "cell_type": "code",
   "execution_count": 12,
   "metadata": {
    "collapsed": true
   },
   "outputs": [],
   "source": [
    "def bye_week_parse(name):\n",
    "    comma_pos = name.rfind(\",\")\n",
    "    if comma_pos == -1:\n",
    "        return -1\n",
    "    return int( name[comma_pos+1:])"
   ]
  },
  {
   "cell_type": "code",
   "execution_count": 13,
   "metadata": {
    "collapsed": true
   },
   "outputs": [],
   "source": [
    "def team_name_parse(name):\n",
    "    words = name.split(\" \")\n",
    "    for w in words:\n",
    "        if w[-1] == ',':\n",
    "            return w[:-1]\n",
    "    return 'FA'"
   ]
  },
  {
   "cell_type": "code",
   "execution_count": 14,
   "metadata": {
    "collapsed": true
   },
   "outputs": [],
   "source": [
    "def player_name_parse(name):\n",
    "    if name.find(\"FA\") != -1:\n",
    "        return name[:name.find(\"FA\")-1].strip()\n",
    "    words = name.split(\" \")\n",
    "    player_name = []\n",
    "    for w in words:\n",
    "        if w[-1] == ',':\n",
    "            return ' '.join(player_name).strip()\n",
    "        player_name.append(w)\n",
    "    return ' '.join(player_name).strip()"
   ]
  },
  {
   "cell_type": "code",
   "execution_count": 16,
   "metadata": {
    "collapsed": false
   },
   "outputs": [
    {
     "name": "stdout",
     "output_type": "stream",
     "text": [
      "<class 'pandas.core.frame.DataFrame'>\n",
      "Int64Index: 293 entries, 0 to 333\n",
      "Data columns (total 13 columns):\n",
      "Rank        293 non-null object\n",
      "Player      293 non-null object\n",
      "Pos         293 non-null object\n",
      "Bye         285 non-null float64\n",
      "Best        293 non-null float64\n",
      "Worst       293 non-null float64\n",
      "Avg         293 non-null float64\n",
      "Std Dev     293 non-null float64\n",
      "ADP         248 non-null float64\n",
      "vs. ADP     248 non-null float64\n",
      "position    293 non-null object\n",
      "bye_week    293 non-null int64\n",
      "team        293 non-null object\n",
      "dtypes: float64(7), int64(1), object(5)\n",
      "memory usage: 32.0+ KB\n"
     ]
    }
   ],
   "source": [
    "rankings_2016['bye_week'] = rankings_2016['Player'].map(bye_week_parse)\n",
    "rankings_2016['team'] = rankings_2016['Player'].map(team_name_parse)\n",
    "rankings_2016['Player'] = rankings_2016['Player'].map(player_name_parse)\n",
    "rankings_2016.info()"
   ]
  },
  {
   "cell_type": "code",
   "execution_count": 17,
   "metadata": {
    "collapsed": true
   },
   "outputs": [],
   "source": [
    "def make_plot(player_data, title):\n",
    "    player_data = player_data[player_data.Avg <= 120].copy()\n",
    "    player_data['diff'] = player_data['Avg'] - player_data['ADP']\n",
    "    def label_value(x):\n",
    "        if x < 0:\n",
    "            return 'under valued'\n",
    "        if x == 0:\n",
    "            return 'faily valued'\n",
    "        return 'over valued'\n",
    "    player_data['status'] = player_data['diff'].map(label_value)\n",
    "    \n",
    "    hover1 = HoverTool(\n",
    "            tooltips=[\n",
    "                (\"Name\", \"$x\"),\n",
    "                (\"Team\", \"@team\"),\n",
    "                (\"Bye Week\", \"@bye_week\"),\n",
    "                (\"Expert Avg\", \"@avg\"),\n",
    "                (\"ADP\", \"@adp\"),\n",
    "                (\"Status\", \"@status\"),\n",
    "            ]\n",
    "        )\n",
    "    \n",
    "    data_dict = {\n",
    "        'x':player_data['Player'],\n",
    "        'status':player_data['status'],\n",
    "        'adp':player_data['ADP'],\n",
    "        'avg':player_data['Avg'],\n",
    "        'team':player_data['team'],\n",
    "        'bye_week':player_data['bye_week']\n",
    "    }\n",
    "    source_1 = ColumnDataSource(data=data_dict)\n",
    "    source_2 = ColumnDataSource(data=data_dict)\n",
    "\n",
    "    Tools = ['box_zoom','crosshair','resize','reset','pan']\n",
    "    Tools.append(hover1)\n",
    "\n",
    "    player_data.sort('Avg',inplace=True, ascending=True)\n",
    "    \n",
    "    #This is cool\n",
    "    factors = list(player_data['Player'])\n",
    "    all_positions = figure(title = \"Draft Ranks\",x_range=factors, tools=Tools,plot_width=800, plot_height=800)\n",
    "    \n",
    "    \n",
    "    \n",
    "    all_positions.xaxis.axis_label = 'Player'\n",
    "    all_positions.yaxis.axis_label = 'Average Draft Pos'\n",
    "\n",
    "    all_positions.circle(player_data['Player'], player_data[\"ADP\"], fill_alpha=0.2, size=10, color='red', source=source_1)\n",
    "    all_positions.circle(player_data['Player'], player_data[\"Avg\"], fill_alpha=0.2, size=10, color='blue', source=source_2)\n",
    "    all_positions.xaxis.major_label_orientation = 120\n",
    "    \n",
    "    tab = Panel(child=all_positions, title=title)\n",
    "    \n",
    "    return tab"
   ]
  },
  {
   "cell_type": "code",
   "execution_count": 20,
   "metadata": {
    "collapsed": false
   },
   "outputs": [
    {
     "data": {
      "text/html": [
       "\n",
       "    <div class=\"bk-banner\">\n",
       "        <a href=\"http://bokeh.pydata.org\" target=\"_blank\" class=\"bk-logo bk-logo-small bk-logo-notebook\"></a>\n",
       "        <span id=\"68875ec4-96a0-43cb-824a-86364dd9f1ad\">Loading BokehJS ...</span>\n",
       "    </div>"
      ]
     },
     "metadata": {},
     "output_type": "display_data"
    },
    {
     "data": {
      "application/javascript": [
       "\n",
       "(function(global) {\n",
       "  function now() {\n",
       "    return new Date();\n",
       "  }\n",
       "\n",
       "  if (typeof (window._bokeh_onload_callbacks) === \"undefined\") {\n",
       "    window._bokeh_onload_callbacks = [];\n",
       "  }\n",
       "\n",
       "  function run_callbacks() {\n",
       "    window._bokeh_onload_callbacks.forEach(function(callback) { callback() });\n",
       "    delete window._bokeh_onload_callbacks\n",
       "    console.info(\"Bokeh: all callbacks have finished\");\n",
       "  }\n",
       "\n",
       "  function load_libs(js_urls, callback) {\n",
       "    window._bokeh_onload_callbacks.push(callback);\n",
       "    if (window._bokeh_is_loading > 0) {\n",
       "      console.log(\"Bokeh: BokehJS is being loaded, scheduling callback at\", now());\n",
       "      return null;\n",
       "    }\n",
       "    if (js_urls == null || js_urls.length === 0) {\n",
       "      run_callbacks();\n",
       "      return null;\n",
       "    }\n",
       "    console.log(\"Bokeh: BokehJS not loaded, scheduling load and callback at\", now());\n",
       "    window._bokeh_is_loading = js_urls.length;\n",
       "    for (var i = 0; i < js_urls.length; i++) {\n",
       "      var url = js_urls[i];\n",
       "      var s = document.createElement('script');\n",
       "      s.src = url;\n",
       "      s.async = false;\n",
       "      s.onreadystatechange = s.onload = function() {\n",
       "        window._bokeh_is_loading--;\n",
       "        if (window._bokeh_is_loading === 0) {\n",
       "          console.log(\"Bokeh: all BokehJS libraries loaded\");\n",
       "          run_callbacks()\n",
       "        }\n",
       "      };\n",
       "      s.onerror = function() {\n",
       "        console.warn(\"failed to load library \" + url);\n",
       "      };\n",
       "      console.log(\"Bokeh: injecting script tag for BokehJS library: \", url);\n",
       "      document.getElementsByTagName(\"head\")[0].appendChild(s);\n",
       "    }\n",
       "  };\n",
       "\n",
       "  var js_urls = ['https://cdn.pydata.org/bokeh/release/bokeh-0.11.1.min.js', 'https://cdn.pydata.org/bokeh/release/bokeh-widgets-0.11.1.min.js', 'https://cdn.pydata.org/bokeh/release/bokeh-compiler-0.11.1.min.js'];\n",
       "\n",
       "  var inline_js = [\n",
       "    function(Bokeh) {\n",
       "      Bokeh.set_log_level(\"info\");\n",
       "    },\n",
       "    \n",
       "    function(Bokeh) {\n",
       "      Bokeh.$(\"#68875ec4-96a0-43cb-824a-86364dd9f1ad\").text(\"BokehJS successfully loaded\");\n",
       "    },\n",
       "    function(Bokeh) {\n",
       "      console.log(\"Bokeh: injecting CSS: https://cdn.pydata.org/bokeh/release/bokeh-0.11.1.min.css\");\n",
       "      Bokeh.embed.inject_css(\"https://cdn.pydata.org/bokeh/release/bokeh-0.11.1.min.css\");\n",
       "      console.log(\"Bokeh: injecting CSS: https://cdn.pydata.org/bokeh/release/bokeh-widgets-0.11.1.min.css\");\n",
       "      Bokeh.embed.inject_css(\"https://cdn.pydata.org/bokeh/release/bokeh-widgets-0.11.1.min.css\");\n",
       "    }\n",
       "  ];\n",
       "\n",
       "  function run_inline_js() {\n",
       "    for (var i = 0; i < inline_js.length; i++) {\n",
       "      inline_js[i](window.Bokeh);\n",
       "    }\n",
       "  }\n",
       "\n",
       "  if (window._bokeh_is_loading === 0) {\n",
       "    console.log(\"Bokeh: BokehJS loaded, going straight to plotting\");\n",
       "    run_inline_js();\n",
       "  } else {\n",
       "    load_libs(js_urls, function() {\n",
       "      console.log(\"Bokeh: BokehJS plotting callback run at\", now());\n",
       "      run_inline_js();\n",
       "    });\n",
       "  }\n",
       "}(this));"
      ]
     },
     "metadata": {},
     "output_type": "display_data"
    },
    {
     "name": "stderr",
     "output_type": "stream",
     "text": [
      "C:\\Users\\yanke_000\\Anaconda2\\lib\\site-packages\\ipykernel\\__main__.py:37: FutureWarning: sort(columns=....) is deprecated, use sort_values(by=.....)\n"
     ]
    },
    {
     "data": {
      "text/html": [
       "\n",
       "\n",
       "    <div class=\"plotdiv\" id=\"0c063495-be27-4dee-a335-47f94365267c\"></div>\n",
       "<script type=\"text/javascript\">\n",
       "  \n",
       "  (function(global) {\n",
       "    function now() {\n",
       "      return new Date();\n",
       "    }\n",
       "  \n",
       "    if (typeof (window._bokeh_onload_callbacks) === \"undefined\") {\n",
       "      window._bokeh_onload_callbacks = [];\n",
       "    }\n",
       "  \n",
       "    function run_callbacks() {\n",
       "      window._bokeh_onload_callbacks.forEach(function(callback) { callback() });\n",
       "      delete window._bokeh_onload_callbacks\n",
       "      console.info(\"Bokeh: all callbacks have finished\");\n",
       "    }\n",
       "  \n",
       "    function load_libs(js_urls, callback) {\n",
       "      window._bokeh_onload_callbacks.push(callback);\n",
       "      if (window._bokeh_is_loading > 0) {\n",
       "        console.log(\"Bokeh: BokehJS is being loaded, scheduling callback at\", now());\n",
       "        return null;\n",
       "      }\n",
       "      if (js_urls == null || js_urls.length === 0) {\n",
       "        run_callbacks();\n",
       "        return null;\n",
       "      }\n",
       "      console.log(\"Bokeh: BokehJS not loaded, scheduling load and callback at\", now());\n",
       "      window._bokeh_is_loading = js_urls.length;\n",
       "      for (var i = 0; i < js_urls.length; i++) {\n",
       "        var url = js_urls[i];\n",
       "        var s = document.createElement('script');\n",
       "        s.src = url;\n",
       "        s.async = false;\n",
       "        s.onreadystatechange = s.onload = function() {\n",
       "          window._bokeh_is_loading--;\n",
       "          if (window._bokeh_is_loading === 0) {\n",
       "            console.log(\"Bokeh: all BokehJS libraries loaded\");\n",
       "            run_callbacks()\n",
       "          }\n",
       "        };\n",
       "        s.onerror = function() {\n",
       "          console.warn(\"failed to load library \" + url);\n",
       "        };\n",
       "        console.log(\"Bokeh: injecting script tag for BokehJS library: \", url);\n",
       "        document.getElementsByTagName(\"head\")[0].appendChild(s);\n",
       "      }\n",
       "    };var element = document.getElementById(\"0c063495-be27-4dee-a335-47f94365267c\");\n",
       "    if (element == null) {\n",
       "      console.log(\"Bokeh: ERROR: autoload.js configured with elementid '0c063495-be27-4dee-a335-47f94365267c' but no matching script tag was found. \")\n",
       "      return false;\n",
       "    }\n",
       "  \n",
       "    var js_urls = [];\n",
       "  \n",
       "    var inline_js = [\n",
       "      function(Bokeh) {\n",
       "        Bokeh.$(function() {\n",
       "            var docs_json = {\"b88210e4-d6b9-4570-8fc3-5599062bda2a\":{\"roots\":{\"references\":[{\"attributes\":{\"callback\":null},\"id\":\"4e4c6dd5-0139-49dc-9a8d-02387ba8588f\",\"type\":\"DataRange1d\"},{\"attributes\":{},\"id\":\"813604e1-fd3b-4211-a774-feb87fb6a443\",\"type\":\"BasicTicker\"},{\"attributes\":{\"below\":[{\"id\":\"f0df4820-33cb-4b48-9c49-c4e64fc972f2\",\"type\":\"CategoricalAxis\"}],\"left\":[{\"id\":\"1cb56cc8-b131-4e3e-ba72-14495c50a60f\",\"type\":\"LinearAxis\"}],\"plot_height\":800,\"plot_width\":800,\"renderers\":[{\"id\":\"f0df4820-33cb-4b48-9c49-c4e64fc972f2\",\"type\":\"CategoricalAxis\"},{\"id\":\"8990f09e-5982-432f-bc8f-ac70fae73831\",\"type\":\"Grid\"},{\"id\":\"1cb56cc8-b131-4e3e-ba72-14495c50a60f\",\"type\":\"LinearAxis\"},{\"id\":\"c76ebe6b-e108-45d3-a40c-5f54088f0fa0\",\"type\":\"Grid\"},{\"id\":\"2ba40f8b-5edd-41c7-87a0-cf9afa049ad3\",\"type\":\"BoxAnnotation\"},{\"id\":\"a60c196a-caa4-47e5-9308-859026a7ef89\",\"type\":\"GlyphRenderer\"},{\"id\":\"96e2371b-7e8c-4687-a8b5-70fde1c1721d\",\"type\":\"GlyphRenderer\"}],\"title\":\"Draft Ranks\",\"tool_events\":{\"id\":\"5db1bb19-3a60-4aa0-80d8-bf8522b66cbc\",\"type\":\"ToolEvents\"},\"tools\":[{\"id\":\"494307c0-da95-4b7a-b620-ac1b2e781ec2\",\"type\":\"HoverTool\"},{\"id\":\"c6296608-bbb5-4824-9727-d6e1d4e02863\",\"type\":\"BoxZoomTool\"},{\"id\":\"5fa84043-8b95-44e2-b5d5-b979473d58e9\",\"type\":\"CrosshairTool\"},{\"id\":\"2c5c1a49-26a1-417c-98ce-23b2ecdc1e58\",\"type\":\"ResizeTool\"},{\"id\":\"91c14e47-9fce-4a89-93fb-1d4f0d054a00\",\"type\":\"ResetTool\"},{\"id\":\"bae20ac1-090d-42cb-b24b-446ac6e3bdac\",\"type\":\"PanTool\"}],\"x_range\":{\"id\":\"4a1cea97-af18-4b50-a0b5-19665cd60813\",\"type\":\"FactorRange\"},\"y_range\":{\"id\":\"422f109a-aed3-4d04-9f8a-5a006133b881\",\"type\":\"DataRange1d\"}},\"id\":\"4799e5fb-5a3d-4b41-b155-68d724579271\",\"subtype\":\"Figure\",\"type\":\"Plot\"},{\"attributes\":{\"data_source\":{\"id\":\"d75392c0-91aa-4636-b997-99e4acd9b135\",\"type\":\"ColumnDataSource\"},\"glyph\":{\"id\":\"0ff176a0-6c62-40ea-a11f-5161f5a780dc\",\"type\":\"Circle\"},\"hover_glyph\":null,\"nonselection_glyph\":{\"id\":\"4708c027-0ebf-49f0-b6da-f11f6aabcb24\",\"type\":\"Circle\"},\"selection_glyph\":null},\"id\":\"a60c196a-caa4-47e5-9308-859026a7ef89\",\"type\":\"GlyphRenderer\"},{\"attributes\":{\"fill_alpha\":{\"value\":0.1},\"fill_color\":{\"value\":\"#1f77b4\"},\"line_alpha\":{\"value\":0.1},\"line_color\":{\"value\":\"#1f77b4\"},\"size\":{\"units\":\"screen\",\"value\":10},\"x\":{\"field\":\"x\"},\"y\":{\"field\":\"y\"}},\"id\":\"f24d9ff7-a80f-4a5a-b195-9b503cc89b00\",\"type\":\"Circle\"},{\"attributes\":{\"callback\":null,\"plot\":{\"id\":\"6ad85410-86c0-48f6-bdb2-e8fa460b42bc\",\"subtype\":\"Figure\",\"type\":\"Plot\"},\"tooltips\":[[\"Name\",\"$x\"],[\"Team\",\"@team\"],[\"Bye Week\",\"@bye_week\"],[\"Expert Avg\",\"@avg\"],[\"ADP\",\"@adp\"],[\"Status\",\"@status\"]]},\"id\":\"dba450de-0185-43dd-a033-27110ab36192\",\"type\":\"HoverTool\"},{\"attributes\":{\"axis_label\":\"Player\",\"formatter\":{\"id\":\"7e558235-95f6-4e96-a969-2cea0cdd1f2f\",\"type\":\"CategoricalTickFormatter\"},\"major_label_orientation\":120,\"plot\":{\"id\":\"ac30fd58-e5f1-431d-acbe-0510984e546a\",\"subtype\":\"Figure\",\"type\":\"Plot\"},\"ticker\":{\"id\":\"189337b6-1b48-4177-a04a-c4ac6328021a\",\"type\":\"CategoricalTicker\"}},\"id\":\"1a350348-5251-4e58-af6a-67c12c89426e\",\"type\":\"CategoricalAxis\"},{\"attributes\":{\"data_source\":{\"id\":\"35c98e87-4235-4d32-a3b5-bde6ccef18c4\",\"type\":\"ColumnDataSource\"},\"glyph\":{\"id\":\"5ff16c57-0cb3-4aba-b6ae-e1d79e7b07e3\",\"type\":\"Circle\"},\"hover_glyph\":null,\"nonselection_glyph\":{\"id\":\"92894f07-dd07-4c55-9ef8-28d5210ae670\",\"type\":\"Circle\"},\"selection_glyph\":null},\"id\":\"94e04b4c-b28c-49e5-8d03-00c783064169\",\"type\":\"GlyphRenderer\"},{\"attributes\":{\"plot\":{\"id\":\"6ad85410-86c0-48f6-bdb2-e8fa460b42bc\",\"subtype\":\"Figure\",\"type\":\"Plot\"}},\"id\":\"18ba41bf-c734-4f33-9b72-0674149dd174\",\"type\":\"PanTool\"},{\"attributes\":{\"axis_label\":\"Player\",\"formatter\":{\"id\":\"cdbfbb6f-45ee-413c-be8d-09345172b438\",\"type\":\"CategoricalTickFormatter\"},\"major_label_orientation\":120,\"plot\":{\"id\":\"6ad85410-86c0-48f6-bdb2-e8fa460b42bc\",\"subtype\":\"Figure\",\"type\":\"Plot\"},\"ticker\":{\"id\":\"8abbc464-340b-49f2-84a1-21ce99567abf\",\"type\":\"CategoricalTicker\"}},\"id\":\"c8ec7d92-a1fa-4952-8465-86fb5b579f7b\",\"type\":\"CategoricalAxis\"},{\"attributes\":{\"dimension\":1,\"plot\":{\"id\":\"4799e5fb-5a3d-4b41-b155-68d724579271\",\"subtype\":\"Figure\",\"type\":\"Plot\"},\"ticker\":{\"id\":\"813604e1-fd3b-4211-a774-feb87fb6a443\",\"type\":\"BasicTicker\"}},\"id\":\"c76ebe6b-e108-45d3-a40c-5f54088f0fa0\",\"type\":\"Grid\"},{\"attributes\":{\"plot\":{\"id\":\"ac30fd58-e5f1-431d-acbe-0510984e546a\",\"subtype\":\"Figure\",\"type\":\"Plot\"}},\"id\":\"959fe6d2-b74c-425b-96aa-12f46017d5e2\",\"type\":\"PanTool\"},{\"attributes\":{\"data_source\":{\"id\":\"7ded5bef-a187-4121-bdb2-ba88baa71a17\",\"type\":\"ColumnDataSource\"},\"glyph\":{\"id\":\"897916ee-7fbc-4c5a-9e0c-7d0d323fc3a0\",\"type\":\"Circle\"},\"hover_glyph\":null,\"nonselection_glyph\":{\"id\":\"81e6922b-d4d0-44a5-b095-5864d1c18704\",\"type\":\"Circle\"},\"selection_glyph\":null},\"id\":\"91314c88-e9d4-480f-b7e6-45d68dab10fb\",\"type\":\"GlyphRenderer\"},{\"attributes\":{\"bottom_units\":\"screen\",\"fill_alpha\":{\"value\":0.5},\"fill_color\":{\"value\":\"lightgrey\"},\"left_units\":\"screen\",\"level\":\"overlay\",\"line_alpha\":{\"value\":1.0},\"line_color\":{\"value\":\"black\"},\"line_dash\":[4,4],\"line_width\":{\"value\":2},\"plot\":null,\"render_mode\":\"css\",\"right_units\":\"screen\",\"top_units\":\"screen\"},\"id\":\"a50f61ba-a6b2-412f-b9eb-d66dad7860d1\",\"type\":\"BoxAnnotation\"},{\"attributes\":{\"callback\":null,\"tabs\":[{\"id\":\"b99d4f96-1042-4171-9ddd-dbfc0135dfe4\",\"type\":\"Panel\"},{\"id\":\"1b76a7b4-dd63-4c01-8f68-f462cc7899ad\",\"type\":\"Panel\"},{\"id\":\"ae9c685a-a220-4896-ad7b-f792a0b89223\",\"type\":\"Panel\"},{\"id\":\"24ac11d7-c96a-4504-978c-092be83eeb3d\",\"type\":\"Panel\"},{\"id\":\"0e891f56-7398-43ba-a8dd-efa9c315a5e3\",\"type\":\"Panel\"}]},\"id\":\"4cb39b47-ceda-4e52-a353-9ef559d9bc68\",\"type\":\"Tabs\"},{\"attributes\":{\"callback\":null,\"plot\":{\"id\":\"c2973612-6a27-4943-b777-9a9ba3ceaa61\",\"subtype\":\"Figure\",\"type\":\"Plot\"},\"tooltips\":[[\"Name\",\"$x\"],[\"Team\",\"@team\"],[\"Bye Week\",\"@bye_week\"],[\"Expert Avg\",\"@avg\"],[\"ADP\",\"@adp\"],[\"Status\",\"@status\"]]},\"id\":\"0edf1155-9fa2-430b-a31f-f655c25177f2\",\"type\":\"HoverTool\"},{\"attributes\":{\"fill_alpha\":{\"value\":0.1},\"fill_color\":{\"value\":\"#1f77b4\"},\"line_alpha\":{\"value\":0.1},\"line_color\":{\"value\":\"#1f77b4\"},\"size\":{\"units\":\"screen\",\"value\":10},\"x\":{\"field\":\"x\"},\"y\":{\"field\":\"y\"}},\"id\":\"4708c027-0ebf-49f0-b6da-f11f6aabcb24\",\"type\":\"Circle\"},{\"attributes\":{\"axis_label\":\"Average Draft Pos\",\"formatter\":{\"id\":\"1b645aae-56e8-45b3-a565-6866068f3d22\",\"type\":\"BasicTickFormatter\"},\"plot\":{\"id\":\"1599e492-2fdb-4b8c-8495-7cb928cfde9a\",\"subtype\":\"Figure\",\"type\":\"Plot\"},\"ticker\":{\"id\":\"94fe033f-f625-45b9-a429-b77d96148d30\",\"type\":\"BasicTicker\"}},\"id\":\"360b53d2-b4e9-47c8-87ee-3a8a93e19386\",\"type\":\"LinearAxis\"},{\"attributes\":{},\"id\":\"749d5823-ea62-428c-a9cf-7131d845cb06\",\"type\":\"BasicTickFormatter\"},{\"attributes\":{\"callback\":null},\"id\":\"c22f0918-28a9-4ebf-8881-b2e590f1f827\",\"type\":\"DataRange1d\"},{\"attributes\":{\"data_source\":{\"id\":\"32491527-46ef-4dc0-8926-cc7e35ad3300\",\"type\":\"ColumnDataSource\"},\"glyph\":{\"id\":\"a14a4588-0db4-4c33-b2dc-44ea6e0b5413\",\"type\":\"Circle\"},\"hover_glyph\":null,\"nonselection_glyph\":{\"id\":\"22b0d1e7-0684-46cd-baf5-342b29a47b3e\",\"type\":\"Circle\"},\"selection_glyph\":null},\"id\":\"883752eb-d571-4158-a039-716d4c982a04\",\"type\":\"GlyphRenderer\"},{\"attributes\":{},\"id\":\"5d22de42-d5d8-4896-bfe4-2ed2c6941941\",\"type\":\"BasicTicker\"},{\"attributes\":{\"callback\":null,\"plot\":{\"id\":\"4799e5fb-5a3d-4b41-b155-68d724579271\",\"subtype\":\"Figure\",\"type\":\"Plot\"},\"tooltips\":[[\"Name\",\"$x\"],[\"Team\",\"@team\"],[\"Bye Week\",\"@bye_week\"],[\"Expert Avg\",\"@avg\"],[\"ADP\",\"@adp\"],[\"Status\",\"@status\"]]},\"id\":\"494307c0-da95-4b7a-b620-ac1b2e781ec2\",\"type\":\"HoverTool\"},{\"attributes\":{\"below\":[{\"id\":\"61628823-87e3-4621-b6e3-5f68579f1b1d\",\"type\":\"CategoricalAxis\"}],\"left\":[{\"id\":\"0aef129b-efea-4068-b19b-f068192b4b49\",\"type\":\"LinearAxis\"}],\"plot_height\":800,\"plot_width\":800,\"renderers\":[{\"id\":\"61628823-87e3-4621-b6e3-5f68579f1b1d\",\"type\":\"CategoricalAxis\"},{\"id\":\"221c3db0-227e-4cc0-9054-384f42dcc50e\",\"type\":\"Grid\"},{\"id\":\"0aef129b-efea-4068-b19b-f068192b4b49\",\"type\":\"LinearAxis\"},{\"id\":\"3e35ceaf-a4da-4952-aaeb-2c277538def9\",\"type\":\"Grid\"},{\"id\":\"b0535e83-8c2c-4401-83c4-f70be4cee4e4\",\"type\":\"BoxAnnotation\"},{\"id\":\"79052b6a-e5ee-46e1-91f6-644dd3f57129\",\"type\":\"GlyphRenderer\"},{\"id\":\"91314c88-e9d4-480f-b7e6-45d68dab10fb\",\"type\":\"GlyphRenderer\"}],\"title\":\"Draft Ranks\",\"tool_events\":{\"id\":\"7c05368d-e727-4b12-9dd6-c63c2528f138\",\"type\":\"ToolEvents\"},\"tools\":[{\"id\":\"0edf1155-9fa2-430b-a31f-f655c25177f2\",\"type\":\"HoverTool\"},{\"id\":\"5d1f259f-71ed-4e45-a2d1-84aba900151f\",\"type\":\"BoxZoomTool\"},{\"id\":\"cb51fae2-48d8-4a35-a4bb-1a4be1313208\",\"type\":\"CrosshairTool\"},{\"id\":\"54794a82-63df-46c1-b2a5-ab27b824dbc5\",\"type\":\"ResizeTool\"},{\"id\":\"3f1b293d-712c-4df4-a511-98be7180182b\",\"type\":\"ResetTool\"},{\"id\":\"cb8888cb-2bc1-4dfb-b9bc-884c1d5ce4b7\",\"type\":\"PanTool\"}],\"x_range\":{\"id\":\"996906fe-c52d-46fc-8e8e-39a563b0d1e5\",\"type\":\"FactorRange\"},\"y_range\":{\"id\":\"4e4c6dd5-0139-49dc-9a8d-02387ba8588f\",\"type\":\"DataRange1d\"}},\"id\":\"c2973612-6a27-4943-b777-9a9ba3ceaa61\",\"subtype\":\"Figure\",\"type\":\"Plot\"},{\"attributes\":{},\"id\":\"e3ab6970-5b02-452e-ad77-df9ebdf04ffe\",\"type\":\"BasicTickFormatter\"},{\"attributes\":{\"fill_alpha\":{\"value\":0.1},\"fill_color\":{\"value\":\"#1f77b4\"},\"line_alpha\":{\"value\":0.1},\"line_color\":{\"value\":\"#1f77b4\"},\"size\":{\"units\":\"screen\",\"value\":10},\"x\":{\"field\":\"x\"},\"y\":{\"field\":\"y\"}},\"id\":\"22b0d1e7-0684-46cd-baf5-342b29a47b3e\",\"type\":\"Circle\"},{\"attributes\":{\"child\":{\"id\":\"ac30fd58-e5f1-431d-acbe-0510984e546a\",\"subtype\":\"Figure\",\"type\":\"Plot\"},\"title\":\"All\"},\"id\":\"0e891f56-7398-43ba-a8dd-efa9c315a5e3\",\"type\":\"Panel\"},{\"attributes\":{\"axis_label\":\"Average Draft Pos\",\"formatter\":{\"id\":\"749d5823-ea62-428c-a9cf-7131d845cb06\",\"type\":\"BasicTickFormatter\"},\"plot\":{\"id\":\"4799e5fb-5a3d-4b41-b155-68d724579271\",\"subtype\":\"Figure\",\"type\":\"Plot\"},\"ticker\":{\"id\":\"813604e1-fd3b-4211-a774-feb87fb6a443\",\"type\":\"BasicTicker\"}},\"id\":\"1cb56cc8-b131-4e3e-ba72-14495c50a60f\",\"type\":\"LinearAxis\"},{\"attributes\":{\"axis_label\":\"Average Draft Pos\",\"formatter\":{\"id\":\"60ee7756-45a2-447c-90e4-3b2bfd03ab6a\",\"type\":\"BasicTickFormatter\"},\"plot\":{\"id\":\"ac30fd58-e5f1-431d-acbe-0510984e546a\",\"subtype\":\"Figure\",\"type\":\"Plot\"},\"ticker\":{\"id\":\"5d22de42-d5d8-4896-bfe4-2ed2c6941941\",\"type\":\"BasicTicker\"}},\"id\":\"01a028ef-e379-4bf2-b55d-fea489754be9\",\"type\":\"LinearAxis\"},{\"attributes\":{\"child\":{\"id\":\"6ad85410-86c0-48f6-bdb2-e8fa460b42bc\",\"subtype\":\"Figure\",\"type\":\"Plot\"},\"title\":\"RB\"},\"id\":\"1b76a7b4-dd63-4c01-8f68-f462cc7899ad\",\"type\":\"Panel\"},{\"attributes\":{\"callback\":null,\"factors\":[\"Rob Gronkowski NE\",\"Jordan Reed WAS\",\"Greg Olsen CAR\",\"Travis Kelce KC\",\"Delanie Walker TEN\",\"Coby Fleener NO\",\"Tyler Eifert CIN\",\"Gary Barnidge CLE\",\"Julius Thomas JAC\",\"Zach Ertz PHI\",\"Ladarius Green PIT\",\"Antonio Gates SD\"]},\"id\":\"59affcbe-fe9e-4780-80e6-3977284fe2b9\",\"type\":\"FactorRange\"},{\"attributes\":{\"callback\":null,\"plot\":{\"id\":\"1599e492-2fdb-4b8c-8495-7cb928cfde9a\",\"subtype\":\"Figure\",\"type\":\"Plot\"},\"tooltips\":[[\"Name\",\"$x\"],[\"Team\",\"@team\"],[\"Bye Week\",\"@bye_week\"],[\"Expert Avg\",\"@avg\"],[\"ADP\",\"@adp\"],[\"Status\",\"@status\"]]},\"id\":\"9fe6ce64-9c8e-4bee-9f44-c6e40ff4bf25\",\"type\":\"HoverTool\"},{\"attributes\":{},\"id\":\"4a4d2a8f-cd67-497f-b7a1-2be5897aab8c\",\"type\":\"BasicTicker\"},{\"attributes\":{\"overlay\":{\"id\":\"97d9504a-7eb1-460d-8c2d-c195ef932c08\",\"type\":\"BoxAnnotation\"},\"plot\":{\"id\":\"6ad85410-86c0-48f6-bdb2-e8fa460b42bc\",\"subtype\":\"Figure\",\"type\":\"Plot\"}},\"id\":\"d4d3073f-df39-4eea-8c56-20a13f9a810e\",\"type\":\"BoxZoomTool\"},{\"attributes\":{},\"id\":\"cdbfbb6f-45ee-413c-be8d-09345172b438\",\"type\":\"CategoricalTickFormatter\"},{\"attributes\":{\"callback\":null,\"column_names\":[\"status\",\"adp\",\"team\",\"bye_week\",\"x\",\"avg\",\"y\",\"x\"],\"data\":{\"adp\":[1.0,3.0,5.0,4.0,7.0,6.0,9.0,12.0,10.0,11.0,15.0,8.0,17.0,2.0,14.0,13.0,18.0,25.0,19.0,16.0,22.0,21.0,29.0,20.0,28.0,27.0,24.0,32.0,33.0,37.0,23.0,26.0,35.0,34.0,31.0,42.0,30.0,50.0,39.0,38.0,44.0,40.0,51.0,43.0,41.0,36.0,46.0,47.0,48.0,54.0,45.0,49.0,53.0,57.0,55.0,61.0,59.0,52.0,62.0,67.0,78.0,70.0,74.0,69.0,63.0,64.0,80.0,71.0,56.0,65.0,68.0,66.0,79.0,82.0,58.0,76.0,87.0,86.0,77.0,73.0,75.0,60.0,85.0,94.0,72.0,81.0,92.0,84.0,83.0,105.0,99.0,103.0,93.0,89.0,101.0,88.0,118.0,96.0,122.0,120.0,116.0,111.0,107.0,123.0,108.0,130.0,121.0,95.0,100.0,110.0,98.0,117.0,106.0,119.0,126.0,135.0,124.0,113.0,146.0,132.0],\"avg\":[1.4,3.4,3.8,4.7,7.4,8.2,9.5,10.3,10.6,10.6,11.7,9.0,15.1,16.0,16.1,16.2,19.6,20.2,21.3,21.7,21.7,24.5,24.8,25.0,25.7,25.9,26.3,30.1,30.2,31.6,32.3,34.6,36.6,37.3,34.3,39.8,43.8,44.1,44.1,45.4,45.6,42.6,46.5,43.5,47.1,47.2,49.5,50.6,50.7,51.3,52.5,53.5,55.4,52.5,55.7,57.9,57.9,58.5,62.5,64.1,62.8,66.0,66.0,66.3,66.7,66.7,70.5,71.0,71.1,71.4,68.9,72.9,73.8,74.7,75.3,76.1,80.0,83.3,81.1,83.1,86.0,86.0,86.2,84.4,85.3,88.0,86.0,88.7,91.3,90.2,96.1,98.0,98.2,99.7,98.8,102.9,103.7,102.2,105.1,105.1,106.7,107.3,110.8,104.6,112.4,112.5,111.2,108.3,112.4,113.9,115.7,112.5,114.6,116.1,117.4,118.3,116.6,115.0,119.0,119.4],\"bye_week\":[-1,-1,-1,-1,-1,-1,-1,-1,-1,-1,-1,-1,-1,-1,-1,-1,-1,-1,-1,-1,-1,-1,-1,-1,-1,-1,-1,-1,-1,-1,-1,-1,-1,-1,-1,-1,-1,-1,-1,-1,-1,-1,-1,-1,-1,-1,-1,-1,-1,-1,-1,-1,-1,-1,-1,-1,-1,-1,-1,-1,-1,-1,-1,-1,-1,-1,-1,-1,-1,-1,-1,-1,-1,-1,-1,-1,-1,-1,-1,-1,-1,-1,-1,-1,-1,-1,-1,-1,-1,-1,-1,-1,-1,-1,-1,-1,-1,-1,-1,-1,-1,-1,-1,-1,-1,-1,-1,-1,-1,-1,-1,-1,-1,-1,-1,-1,-1,-1,-1,-1],\"status\":[\"over valued\",\"over valued\",\"under valued\",\"over valued\",\"over valued\",\"over valued\",\"over valued\",\"under valued\",\"over valued\",\"under valued\",\"under valued\",\"over valued\",\"under valued\",\"over valued\",\"over valued\",\"over valued\",\"over valued\",\"under valued\",\"over valued\",\"over valued\",\"under valued\",\"over valued\",\"under valued\",\"over valued\",\"under valued\",\"under valued\",\"over valued\",\"under valued\",\"under valued\",\"under valued\",\"over valued\",\"over valued\",\"over valued\",\"over valued\",\"over valued\",\"under valued\",\"over valued\",\"under valued\",\"over valued\",\"over valued\",\"over valued\",\"over valued\",\"under valued\",\"over valued\",\"over valued\",\"over valued\",\"over valued\",\"over valued\",\"over valued\",\"under valued\",\"over valued\",\"over valued\",\"over valued\",\"under valued\",\"over valued\",\"under valued\",\"under valued\",\"over valued\",\"over valued\",\"under valued\",\"under valued\",\"under valued\",\"under valued\",\"under valued\",\"over valued\",\"over valued\",\"under valued\",\"faily valued\",\"over valued\",\"over valued\",\"over valued\",\"over valued\",\"under valued\",\"under valued\",\"over valued\",\"over valued\",\"under valued\",\"under valued\",\"over valued\",\"over valued\",\"over valued\",\"over valued\",\"over valued\",\"under valued\",\"over valued\",\"over valued\",\"under valued\",\"over valued\",\"over valued\",\"under valued\",\"under valued\",\"under valued\",\"over valued\",\"over valued\",\"under valued\",\"over valued\",\"under valued\",\"over valued\",\"under valued\",\"under valued\",\"under valued\",\"under valued\",\"over valued\",\"under valued\",\"over valued\",\"under valued\",\"under valued\",\"over valued\",\"over valued\",\"over valued\",\"over valued\",\"under valued\",\"over valued\",\"under valued\",\"under valued\",\"under valued\",\"under valued\",\"over valued\",\"under valued\",\"under valued\"],\"team\":[\"FA\",\"FA\",\"FA\",\"FA\",\"FA\",\"FA\",\"FA\",\"FA\",\"FA\",\"FA\",\"FA\",\"FA\",\"FA\",\"FA\",\"FA\",\"FA\",\"FA\",\"FA\",\"FA\",\"FA\",\"FA\",\"FA\",\"FA\",\"FA\",\"FA\",\"FA\",\"FA\",\"FA\",\"FA\",\"FA\",\"FA\",\"FA\",\"FA\",\"FA\",\"FA\",\"FA\",\"FA\",\"FA\",\"FA\",\"FA\",\"FA\",\"FA\",\"FA\",\"FA\",\"FA\",\"FA\",\"FA\",\"FA\",\"FA\",\"FA\",\"FA\",\"FA\",\"FA\",\"FA\",\"FA\",\"FA\",\"FA\",\"FA\",\"FA\",\"FA\",\"FA\",\"FA\",\"FA\",\"FA\",\"FA\",\"FA\",\"FA\",\"FA\",\"FA\",\"FA\",\"FA\",\"FA\",\"FA\",\"FA\",\"FA\",\"FA\",\"FA\",\"FA\",\"FA\",\"FA\",\"FA\",\"FA\",\"FA\",\"FA\",\"FA\",\"FA\",\"FA\",\"FA\",\"FA\",\"FA\",\"FA\",\"FA\",\"FA\",\"FA\",\"FA\",\"FA\",\"FA\",\"FA\",\"FA\",\"FA\",\"FA\",\"FA\",\"FA\",\"FA\",\"FA\",\"FA\",\"FA\",\"FA\",\"FA\",\"FA\",\"FA\",\"FA\",\"FA\",\"FA\",\"FA\",\"FA\",\"FA\",\"FA\",\"FA\",\"FA\"],\"x\":[\"Antonio Brown PIT\",\"Odell Beckham Jr. NYG\",\"Julio Jones ATL\",\"Todd Gurley LA\",\"David Johnson ARI\",\"Adrian Peterson MIN\",\"Ezekiel Elliott DAL\",\"DeAndre Hopkins HOU\",\"A.J. Green CIN\",\"Rob Gronkowski NE\",\"Dez Bryant DAL\",\"Lamar Miller HOU\",\"Allen Robinson JAC\",\"Le'Veon Bell PIT\",\"Jordy Nelson GB\",\"Jamaal Charles KC\",\"Alshon Jeffery CHI\",\"Mike Evans TB\",\"Doug Martin TB\",\"Devonta Freeman ATL\",\"Mark Ingram NO\",\"Brandon Marshall NYJ\",\"Keenan Allen SD\",\"Eddie Lacy GB\",\"Brandin Cooks NO\",\"LeSean McCoy BUF\",\"Amari Cooper OAK\",\"Demaryius Thomas DEN\",\"T.Y. Hilton IND\",\"C.J. Anderson DEN\",\"Cam Newton CAR\",\"Aaron Rodgers GB\",\"Sammy Watkins BUF\",\"Carlos Hyde SF\",\"Matt Forte NYJ\",\"Randall Cobb GB\",\"Russell Wilson SEA\",\"Andrew Luck IND\",\"Thomas Rawls SEA\",\"Jeremy Maclin KC\",\"Jordan Reed WAS\",\"Julian Edelman NE\",\"Greg Olsen CAR\",\"Golden Tate DET\",\"Latavius Murray OAK\",\"Kelvin Benjamin CAR\",\"DeMarco Murray TEN\",\"Jonathan Stewart CAR\",\"Jarvis Landry MIA\",\"Eric Decker NYJ\",\"Doug Baldwin SEA\",\"Drew Brees NO\",\"Jeremy Hill CIN\",\"Ryan Mathews PHI\",\"Dion Lewis NE\",\"Matt Jones WAS\",\"Michael Floyd ARI\",\"Ben Roethlisberger PIT\",\"Larry Fitzgerald ARI\",\"Donte Moncrief IND\",\"Jordan Matthews PHI\",\"John Brown ARI\",\"Frank Gore IND\",\"Devante Parker MIA\",\"Travis Kelce KC\",\"Emmanuel Sanders DEN\",\"Carson Palmer ARI\",\"Giovani Bernard CIN\",\"Melvin Gordon SD\",\"Jeremy Langford CHI\",\"Allen Hurns JAC\",\"Delanie Walker TEN\",\"DeSean Jackson WAS\",\"Duke Johnson CLE\",\"Jay Ajayi MIA\",\"Ameer Abdullah DET\",\"Tyler Lockett SEA\",\"Chris Ivory JAC\",\"Blake Bortles JAC\",\"Michael Crabtree OAK\",\"Eli Manning NYG\",\"Tom Brady NE\",\"Coby Fleener NO\",\"Tyler Eifert CIN\",\"Marvin Jones DET\",\"Danny Woodhead SD\",\"Kevin White CHI\",\"T.J. Yeldon JAC\",\"Philip Rivers SD\",\"Gary Barnidge CLE\",\"Rashad Jennings NYG\",\"Julius Thomas JAC\",\"Zach Ertz PHI\",\"Corey Coleman CLE\",\"Ladarius Green PIT\",\"Tony Romo DAL\",\"Justin Forsett BAL\",\"Willie Snead NO\",\"Arian Foster MIA\",\"Antonio Gates SD\",\"Torrey Smith SF\",\"Charles Sims TB\",\"Derek Carr OAK\",\"Sterling Shepard NYG\",\"Markus Wheaton PIT\",\"Tavon Austin LA\",\"DeAngelo Williams PIT\",\"Derrick Henry TEN\",\"Isaiah Crowell CLE\",\"Vincent Jackson TB\",\"Dorial Green-Beckham TEN\",\"Stefon Diggs MIN\",\"Laquon Treadwell MIN\",\"Steve Smith BAL\",\"Andy Dalton CIN\",\"Kirk Cousins WAS\",\"Travis Benjamin SD\",\"Jameis Winston TB\",\"Tyrod Taylor BUF\",\"Kenneth Dixon BAL\"],\"y\":[1.0,3.0,5.0,4.0,7.0,6.0,8.0,9.0,12.0,10.0,11.0,15.0,17.0,2.0,14.0,13.0,18.0,25.0,19.0,16.0,22.0,21.0,29.0,20.0,28.0,27.0,24.0,32.0,33.0,37.0,23.0,31.0,26.0,35.0,34.0,42.0,40.0,43.0,30.0,50.0,39.0,38.0,44.0,51.0,41.0,36.0,46.0,47.0,48.0,54.0,45.0,57.0,49.0,53.0,55.0,61.0,59.0,52.0,62.0,78.0,67.0,70.0,74.0,69.0,63.0,64.0,68.0,80.0,71.0,56.0,65.0,66.0,79.0,82.0,58.0,76.0,87.0,77.0,73.0,86.0,94.0,72.0,75.0,60.0,92.0,85.0,81.0,84.0,105.0,83.0,99.0,103.0,93.0,101.0,89.0,96.0,88.0,118.0,123.0,120.0,122.0,116.0,111.0,95.0,107.0,121.0,108.0,100.0,117.0,130.0,110.0,106.0,113.0,98.0,119.0,124.0,126.0,135.0,146.0,132.0]}},\"id\":\"3bd0bb84-a756-45e4-881b-58b59ba0f797\",\"type\":\"ColumnDataSource\"},{\"attributes\":{},\"id\":\"7c05368d-e727-4b12-9dd6-c63c2528f138\",\"type\":\"ToolEvents\"},{\"attributes\":{\"plot\":{\"id\":\"6ad85410-86c0-48f6-bdb2-e8fa460b42bc\",\"subtype\":\"Figure\",\"type\":\"Plot\"}},\"id\":\"ae3bf99a-4c83-4691-84db-2516c1636000\",\"type\":\"CrosshairTool\"},{\"attributes\":{\"data_source\":{\"id\":\"3bdb6a0d-ee71-4162-9e03-764c90042b34\",\"type\":\"ColumnDataSource\"},\"glyph\":{\"id\":\"a387a9f6-47b4-4616-a893-bd6c335dc3c9\",\"type\":\"Circle\"},\"hover_glyph\":null,\"nonselection_glyph\":{\"id\":\"600dc5cf-e8c5-45ce-9220-58167a49521b\",\"type\":\"Circle\"},\"selection_glyph\":null},\"id\":\"b5da6aa9-2d7c-4924-9a69-602cb05902c1\",\"type\":\"GlyphRenderer\"},{\"attributes\":{\"plot\":{\"id\":\"c2973612-6a27-4943-b777-9a9ba3ceaa61\",\"subtype\":\"Figure\",\"type\":\"Plot\"},\"ticker\":{\"id\":\"b0be95b3-e294-4cf1-a2d6-78f03d0215fb\",\"type\":\"CategoricalTicker\"}},\"id\":\"221c3db0-227e-4cc0-9054-384f42dcc50e\",\"type\":\"Grid\"},{\"attributes\":{},\"id\":\"7e558235-95f6-4e96-a969-2cea0cdd1f2f\",\"type\":\"CategoricalTickFormatter\"},{\"attributes\":{\"fill_alpha\":{\"value\":0.2},\"fill_color\":{\"value\":\"blue\"},\"line_color\":{\"value\":\"blue\"},\"size\":{\"units\":\"screen\",\"value\":10},\"x\":{\"field\":\"x\"},\"y\":{\"field\":\"y\"}},\"id\":\"897916ee-7fbc-4c5a-9e0c-7d0d323fc3a0\",\"type\":\"Circle\"},{\"attributes\":{\"fill_alpha\":{\"value\":0.1},\"fill_color\":{\"value\":\"#1f77b4\"},\"line_alpha\":{\"value\":0.1},\"line_color\":{\"value\":\"#1f77b4\"},\"size\":{\"units\":\"screen\",\"value\":10},\"x\":{\"field\":\"x\"},\"y\":{\"field\":\"y\"}},\"id\":\"dd21f053-3139-4337-a0be-16396064ca77\",\"type\":\"Circle\"},{\"attributes\":{\"callback\":null,\"column_names\":[\"status\",\"adp\",\"team\",\"bye_week\",\"x\",\"avg\",\"y\",\"x\"],\"data\":{\"adp\":[10.0,39.0,44.0,63.0,66.0,75.0,60.0,83.0,103.0,93.0,89.0,120.0],\"avg\":[10.6,44.1,45.6,66.7,72.9,86.0,86.0,91.3,98.0,98.2,99.7,105.1],\"bye_week\":[-1,-1,-1,-1,-1,-1,-1,-1,-1,-1,-1,-1],\"status\":[\"over valued\",\"over valued\",\"over valued\",\"over valued\",\"over valued\",\"over valued\",\"over valued\",\"over valued\",\"under valued\",\"over valued\",\"over valued\",\"under valued\"],\"team\":[\"FA\",\"FA\",\"FA\",\"FA\",\"FA\",\"FA\",\"FA\",\"FA\",\"FA\",\"FA\",\"FA\",\"FA\"],\"x\":[\"Rob Gronkowski NE\",\"Jordan Reed WAS\",\"Greg Olsen CAR\",\"Travis Kelce KC\",\"Delanie Walker TEN\",\"Coby Fleener NO\",\"Tyler Eifert CIN\",\"Gary Barnidge CLE\",\"Julius Thomas JAC\",\"Zach Ertz PHI\",\"Ladarius Green PIT\",\"Antonio Gates SD\"],\"y\":[10.6,44.1,45.6,66.7,72.9,86.0,86.0,91.3,98.0,98.2,99.7,105.1]}},\"id\":\"32491527-46ef-4dc0-8926-cc7e35ad3300\",\"type\":\"ColumnDataSource\"},{\"attributes\":{},\"id\":\"adbbd823-ebed-4352-8685-c33fb795a83e\",\"type\":\"ToolEvents\"},{\"attributes\":{\"plot\":{\"id\":\"6ad85410-86c0-48f6-bdb2-e8fa460b42bc\",\"subtype\":\"Figure\",\"type\":\"Plot\"}},\"id\":\"eb336212-3e34-43e7-9d5e-1ceb68981171\",\"type\":\"ResizeTool\"},{\"attributes\":{},\"id\":\"9e667728-b748-49fa-8669-a16ce25eb256\",\"type\":\"CategoricalTicker\"},{\"attributes\":{},\"id\":\"5db1bb19-3a60-4aa0-80d8-bf8522b66cbc\",\"type\":\"ToolEvents\"},{\"attributes\":{\"callback\":null},\"id\":\"96b0520d-a49e-493a-b144-3ecb05c81fdc\",\"type\":\"DataRange1d\"},{\"attributes\":{},\"id\":\"b0be95b3-e294-4cf1-a2d6-78f03d0215fb\",\"type\":\"CategoricalTicker\"},{\"attributes\":{},\"id\":\"94fe033f-f625-45b9-a429-b77d96148d30\",\"type\":\"BasicTicker\"},{\"attributes\":{\"plot\":{\"id\":\"c2973612-6a27-4943-b777-9a9ba3ceaa61\",\"subtype\":\"Figure\",\"type\":\"Plot\"}},\"id\":\"cb51fae2-48d8-4a35-a4bb-1a4be1313208\",\"type\":\"CrosshairTool\"},{\"attributes\":{\"dimension\":1,\"plot\":{\"id\":\"1599e492-2fdb-4b8c-8495-7cb928cfde9a\",\"subtype\":\"Figure\",\"type\":\"Plot\"},\"ticker\":{\"id\":\"94fe033f-f625-45b9-a429-b77d96148d30\",\"type\":\"BasicTicker\"}},\"id\":\"b63b8689-29b1-40af-8cea-1300bc4083cd\",\"type\":\"Grid\"},{\"attributes\":{\"axis_label\":\"Average Draft Pos\",\"formatter\":{\"id\":\"77d106f9-4be4-4a48-b66a-0d32d94b827a\",\"type\":\"BasicTickFormatter\"},\"plot\":{\"id\":\"c2973612-6a27-4943-b777-9a9ba3ceaa61\",\"subtype\":\"Figure\",\"type\":\"Plot\"},\"ticker\":{\"id\":\"2752ca50-b66e-4583-8968-5c2756585113\",\"type\":\"BasicTicker\"}},\"id\":\"0aef129b-efea-4068-b19b-f068192b4b49\",\"type\":\"LinearAxis\"},{\"attributes\":{\"callback\":null,\"factors\":[\"Antonio Brown PIT\",\"Odell Beckham Jr. NYG\",\"Julio Jones ATL\",\"Todd Gurley LA\",\"David Johnson ARI\",\"Adrian Peterson MIN\",\"Ezekiel Elliott DAL\",\"DeAndre Hopkins HOU\",\"A.J. Green CIN\",\"Rob Gronkowski NE\",\"Dez Bryant DAL\",\"Lamar Miller HOU\",\"Allen Robinson JAC\",\"Le'Veon Bell PIT\",\"Jordy Nelson GB\",\"Jamaal Charles KC\",\"Alshon Jeffery CHI\",\"Mike Evans TB\",\"Doug Martin TB\",\"Devonta Freeman ATL\",\"Mark Ingram NO\",\"Brandon Marshall NYJ\",\"Keenan Allen SD\",\"Eddie Lacy GB\",\"Brandin Cooks NO\",\"LeSean McCoy BUF\",\"Amari Cooper OAK\",\"Demaryius Thomas DEN\",\"T.Y. Hilton IND\",\"C.J. Anderson DEN\",\"Cam Newton CAR\",\"Aaron Rodgers GB\",\"Sammy Watkins BUF\",\"Carlos Hyde SF\",\"Matt Forte NYJ\",\"Randall Cobb GB\",\"Russell Wilson SEA\",\"Andrew Luck IND\",\"Thomas Rawls SEA\",\"Jeremy Maclin KC\",\"Jordan Reed WAS\",\"Julian Edelman NE\",\"Greg Olsen CAR\",\"Golden Tate DET\",\"Latavius Murray OAK\",\"Kelvin Benjamin CAR\",\"DeMarco Murray TEN\",\"Jonathan Stewart CAR\",\"Jarvis Landry MIA\",\"Eric Decker NYJ\",\"Doug Baldwin SEA\",\"Drew Brees NO\",\"Jeremy Hill CIN\",\"Ryan Mathews PHI\",\"Dion Lewis NE\",\"Matt Jones WAS\",\"Michael Floyd ARI\",\"Ben Roethlisberger PIT\",\"Larry Fitzgerald ARI\",\"Donte Moncrief IND\",\"Jordan Matthews PHI\",\"John Brown ARI\",\"Frank Gore IND\",\"Devante Parker MIA\",\"Travis Kelce KC\",\"Emmanuel Sanders DEN\",\"Carson Palmer ARI\",\"Giovani Bernard CIN\",\"Melvin Gordon SD\",\"Jeremy Langford CHI\",\"Allen Hurns JAC\",\"Delanie Walker TEN\",\"DeSean Jackson WAS\",\"Duke Johnson CLE\",\"Jay Ajayi MIA\",\"Ameer Abdullah DET\",\"Tyler Lockett SEA\",\"Chris Ivory JAC\",\"Blake Bortles JAC\",\"Michael Crabtree OAK\",\"Eli Manning NYG\",\"Tom Brady NE\",\"Coby Fleener NO\",\"Tyler Eifert CIN\",\"Marvin Jones DET\",\"Danny Woodhead SD\",\"Kevin White CHI\",\"T.J. Yeldon JAC\",\"Philip Rivers SD\",\"Gary Barnidge CLE\",\"Rashad Jennings NYG\",\"Julius Thomas JAC\",\"Zach Ertz PHI\",\"Corey Coleman CLE\",\"Ladarius Green PIT\",\"Tony Romo DAL\",\"Justin Forsett BAL\",\"Willie Snead NO\",\"Arian Foster MIA\",\"Antonio Gates SD\",\"Torrey Smith SF\",\"Charles Sims TB\",\"Derek Carr OAK\",\"Sterling Shepard NYG\",\"Markus Wheaton PIT\",\"Tavon Austin LA\",\"DeAngelo Williams PIT\",\"Derrick Henry TEN\",\"Isaiah Crowell CLE\",\"Vincent Jackson TB\",\"Dorial Green-Beckham TEN\",\"Stefon Diggs MIN\",\"Laquon Treadwell MIN\",\"Steve Smith BAL\",\"Andy Dalton CIN\",\"Kirk Cousins WAS\",\"Travis Benjamin SD\",\"Jameis Winston TB\",\"Tyrod Taylor BUF\",\"Kenneth Dixon BAL\"]},\"id\":\"67d2fe9f-73e0-46a5-a543-626f30f6165c\",\"type\":\"FactorRange\"},{\"attributes\":{\"plot\":{\"id\":\"4799e5fb-5a3d-4b41-b155-68d724579271\",\"subtype\":\"Figure\",\"type\":\"Plot\"}},\"id\":\"91c14e47-9fce-4a89-93fb-1d4f0d054a00\",\"type\":\"ResetTool\"},{\"attributes\":{\"axis_label\":\"Average Draft Pos\",\"formatter\":{\"id\":\"e3ab6970-5b02-452e-ad77-df9ebdf04ffe\",\"type\":\"BasicTickFormatter\"},\"plot\":{\"id\":\"6ad85410-86c0-48f6-bdb2-e8fa460b42bc\",\"subtype\":\"Figure\",\"type\":\"Plot\"},\"ticker\":{\"id\":\"4a4d2a8f-cd67-497f-b7a1-2be5897aab8c\",\"type\":\"BasicTicker\"}},\"id\":\"f022616a-7265-44c9-b3f2-c6ae82f4e31e\",\"type\":\"LinearAxis\"},{\"attributes\":{\"plot\":{\"id\":\"1599e492-2fdb-4b8c-8495-7cb928cfde9a\",\"subtype\":\"Figure\",\"type\":\"Plot\"}},\"id\":\"07c9ce9c-4840-4b66-b723-3bb75ff6db81\",\"type\":\"ResetTool\"},{\"attributes\":{\"axis_label\":\"Player\",\"formatter\":{\"id\":\"c60e377d-bd86-4df0-b92c-bf4721017970\",\"type\":\"CategoricalTickFormatter\"},\"major_label_orientation\":120,\"plot\":{\"id\":\"c2973612-6a27-4943-b777-9a9ba3ceaa61\",\"subtype\":\"Figure\",\"type\":\"Plot\"},\"ticker\":{\"id\":\"b0be95b3-e294-4cf1-a2d6-78f03d0215fb\",\"type\":\"CategoricalTicker\"}},\"id\":\"61628823-87e3-4621-b6e3-5f68579f1b1d\",\"type\":\"CategoricalAxis\"},{\"attributes\":{\"axis_label\":\"Player\",\"formatter\":{\"id\":\"31cd8c02-a228-483a-af02-bb2198651231\",\"type\":\"CategoricalTickFormatter\"},\"major_label_orientation\":120,\"plot\":{\"id\":\"4799e5fb-5a3d-4b41-b155-68d724579271\",\"subtype\":\"Figure\",\"type\":\"Plot\"},\"ticker\":{\"id\":\"9e667728-b748-49fa-8669-a16ce25eb256\",\"type\":\"CategoricalTicker\"}},\"id\":\"f0df4820-33cb-4b48-9c49-c4e64fc972f2\",\"type\":\"CategoricalAxis\"},{\"attributes\":{\"child\":{\"id\":\"1599e492-2fdb-4b8c-8495-7cb928cfde9a\",\"subtype\":\"Figure\",\"type\":\"Plot\"},\"title\":\"TE\"},\"id\":\"24ac11d7-c96a-4504-978c-092be83eeb3d\",\"type\":\"Panel\"},{\"attributes\":{\"plot\":{\"id\":\"c2973612-6a27-4943-b777-9a9ba3ceaa61\",\"subtype\":\"Figure\",\"type\":\"Plot\"}},\"id\":\"3f1b293d-712c-4df4-a511-98be7180182b\",\"type\":\"ResetTool\"},{\"attributes\":{\"fill_alpha\":{\"value\":0.1},\"fill_color\":{\"value\":\"#1f77b4\"},\"line_alpha\":{\"value\":0.1},\"line_color\":{\"value\":\"#1f77b4\"},\"size\":{\"units\":\"screen\",\"value\":10},\"x\":{\"field\":\"x\"},\"y\":{\"field\":\"y\"}},\"id\":\"92894f07-dd07-4c55-9ef8-28d5210ae670\",\"type\":\"Circle\"},{\"attributes\":{\"overlay\":{\"id\":\"a50f61ba-a6b2-412f-b9eb-d66dad7860d1\",\"type\":\"BoxAnnotation\"},\"plot\":{\"id\":\"ac30fd58-e5f1-431d-acbe-0510984e546a\",\"subtype\":\"Figure\",\"type\":\"Plot\"}},\"id\":\"6aaf84ee-66ca-4ddf-8419-088c3e538006\",\"type\":\"BoxZoomTool\"},{\"attributes\":{\"fill_alpha\":{\"value\":0.2},\"fill_color\":{\"value\":\"blue\"},\"line_color\":{\"value\":\"blue\"},\"size\":{\"units\":\"screen\",\"value\":10},\"x\":{\"field\":\"x\"},\"y\":{\"field\":\"y\"}},\"id\":\"42e6edd2-40a9-4181-8954-39daada5c594\",\"type\":\"Circle\"},{\"attributes\":{\"callback\":null},\"id\":\"422f109a-aed3-4d04-9f8a-5a006133b881\",\"type\":\"DataRange1d\"},{\"attributes\":{\"fill_alpha\":{\"value\":0.1},\"fill_color\":{\"value\":\"#1f77b4\"},\"line_alpha\":{\"value\":0.1},\"line_color\":{\"value\":\"#1f77b4\"},\"size\":{\"units\":\"screen\",\"value\":10},\"x\":{\"field\":\"x\"},\"y\":{\"field\":\"y\"}},\"id\":\"600dc5cf-e8c5-45ce-9220-58167a49521b\",\"type\":\"Circle\"},{\"attributes\":{\"fill_alpha\":{\"value\":0.2},\"fill_color\":{\"value\":\"red\"},\"line_color\":{\"value\":\"red\"},\"size\":{\"units\":\"screen\",\"value\":10},\"x\":{\"field\":\"x\"},\"y\":{\"field\":\"y\"}},\"id\":\"5ff16c57-0cb3-4aba-b6ae-e1d79e7b07e3\",\"type\":\"Circle\"},{\"attributes\":{},\"id\":\"31cd8c02-a228-483a-af02-bb2198651231\",\"type\":\"CategoricalTickFormatter\"},{\"attributes\":{},\"id\":\"77d106f9-4be4-4a48-b66a-0d32d94b827a\",\"type\":\"BasicTickFormatter\"},{\"attributes\":{\"child\":{\"id\":\"c2973612-6a27-4943-b777-9a9ba3ceaa61\",\"subtype\":\"Figure\",\"type\":\"Plot\"},\"title\":\"QB\"},\"id\":\"b99d4f96-1042-4171-9ddd-dbfc0135dfe4\",\"type\":\"Panel\"},{\"attributes\":{\"overlay\":{\"id\":\"ca6cb534-69a8-4662-8574-6695851fc2c7\",\"type\":\"BoxAnnotation\"},\"plot\":{\"id\":\"1599e492-2fdb-4b8c-8495-7cb928cfde9a\",\"subtype\":\"Figure\",\"type\":\"Plot\"}},\"id\":\"1662e2ed-7ef3-4593-8193-7a8385c41b0a\",\"type\":\"BoxZoomTool\"},{\"attributes\":{},\"id\":\"eefdf305-e69d-4ab8-8d01-3959bbdd3a60\",\"type\":\"CategoricalTicker\"},{\"attributes\":{\"plot\":{\"id\":\"1599e492-2fdb-4b8c-8495-7cb928cfde9a\",\"subtype\":\"Figure\",\"type\":\"Plot\"}},\"id\":\"85c1aff7-374c-4a8c-9a1b-fd2ae4d299e2\",\"type\":\"CrosshairTool\"},{\"attributes\":{\"fill_alpha\":{\"value\":0.2},\"fill_color\":{\"value\":\"blue\"},\"line_color\":{\"value\":\"blue\"},\"size\":{\"units\":\"screen\",\"value\":10},\"x\":{\"field\":\"x\"},\"y\":{\"field\":\"y\"}},\"id\":\"a387a9f6-47b4-4616-a893-bd6c335dc3c9\",\"type\":\"Circle\"},{\"attributes\":{\"plot\":{\"id\":\"ac30fd58-e5f1-431d-acbe-0510984e546a\",\"subtype\":\"Figure\",\"type\":\"Plot\"}},\"id\":\"8827d984-2349-4f04-ae27-643bc216ce3a\",\"type\":\"ResetTool\"},{\"attributes\":{\"data_source\":{\"id\":\"3bd0bb84-a756-45e4-881b-58b59ba0f797\",\"type\":\"ColumnDataSource\"},\"glyph\":{\"id\":\"b799a951-c17b-4d76-a88b-71347e0c8544\",\"type\":\"Circle\"},\"hover_glyph\":null,\"nonselection_glyph\":{\"id\":\"f24d9ff7-a80f-4a5a-b195-9b503cc89b00\",\"type\":\"Circle\"},\"selection_glyph\":null},\"id\":\"1295b669-1ba5-46f1-8688-2eedf1941583\",\"type\":\"GlyphRenderer\"},{\"attributes\":{\"fill_alpha\":{\"value\":0.2},\"fill_color\":{\"value\":\"red\"},\"line_color\":{\"value\":\"red\"},\"size\":{\"units\":\"screen\",\"value\":10},\"x\":{\"field\":\"x\"},\"y\":{\"field\":\"y\"}},\"id\":\"8ae8a466-e2ce-4b47-93a7-a8da1ce2d5d9\",\"type\":\"Circle\"},{\"attributes\":{\"callback\":null,\"column_names\":[\"status\",\"adp\",\"team\",\"bye_week\",\"x\",\"avg\",\"y\",\"x\"],\"data\":{\"adp\":[23.0,31.0,40.0,43.0,57.0,52.0,68.0,73.0,94.0,72.0,105.0,96.0,111.0,119.0,135.0,124.0,146.0],\"avg\":[32.3,34.3,42.6,43.5,52.5,58.5,68.9,83.1,84.4,85.3,90.2,102.2,107.3,116.1,118.3,116.6,119.0],\"bye_week\":[-1,-1,-1,-1,-1,-1,-1,-1,-1,-1,-1,-1,-1,-1,-1,-1,-1],\"status\":[\"over valued\",\"over valued\",\"over valued\",\"over valued\",\"under valued\",\"over valued\",\"over valued\",\"over valued\",\"under valued\",\"over valued\",\"under valued\",\"over valued\",\"under valued\",\"under valued\",\"under valued\",\"under valued\",\"under valued\"],\"team\":[\"FA\",\"FA\",\"FA\",\"FA\",\"FA\",\"FA\",\"FA\",\"FA\",\"FA\",\"FA\",\"FA\",\"FA\",\"FA\",\"FA\",\"FA\",\"FA\",\"FA\"],\"x\":[\"Cam Newton CAR\",\"Aaron Rodgers GB\",\"Russell Wilson SEA\",\"Andrew Luck IND\",\"Drew Brees NO\",\"Ben Roethlisberger PIT\",\"Carson Palmer ARI\",\"Blake Bortles JAC\",\"Eli Manning NYG\",\"Tom Brady NE\",\"Philip Rivers SD\",\"Tony Romo DAL\",\"Derek Carr OAK\",\"Andy Dalton CIN\",\"Kirk Cousins WAS\",\"Jameis Winston TB\",\"Tyrod Taylor BUF\"],\"y\":[32.3,34.3,42.6,43.5,52.5,58.5,68.9,83.1,84.4,85.3,90.2,102.2,107.3,116.1,116.6,118.3,119.0]}},\"id\":\"7ded5bef-a187-4121-bdb2-ba88baa71a17\",\"type\":\"ColumnDataSource\"},{\"attributes\":{},\"id\":\"0f397d48-620f-4cbc-8549-f74b0f3550ca\",\"type\":\"CategoricalTickFormatter\"},{\"attributes\":{\"fill_alpha\":{\"value\":0.1},\"fill_color\":{\"value\":\"#1f77b4\"},\"line_alpha\":{\"value\":0.1},\"line_color\":{\"value\":\"#1f77b4\"},\"size\":{\"units\":\"screen\",\"value\":10},\"x\":{\"field\":\"x\"},\"y\":{\"field\":\"y\"}},\"id\":\"81e6922b-d4d0-44a5-b095-5864d1c18704\",\"type\":\"Circle\"},{\"attributes\":{\"below\":[{\"id\":\"36a49361-6eb1-4ff1-bc06-576b770793ca\",\"type\":\"CategoricalAxis\"}],\"left\":[{\"id\":\"360b53d2-b4e9-47c8-87ee-3a8a93e19386\",\"type\":\"LinearAxis\"}],\"plot_height\":800,\"plot_width\":800,\"renderers\":[{\"id\":\"36a49361-6eb1-4ff1-bc06-576b770793ca\",\"type\":\"CategoricalAxis\"},{\"id\":\"5fff3ce6-181b-4673-8e9b-ad193d130623\",\"type\":\"Grid\"},{\"id\":\"360b53d2-b4e9-47c8-87ee-3a8a93e19386\",\"type\":\"LinearAxis\"},{\"id\":\"b63b8689-29b1-40af-8cea-1300bc4083cd\",\"type\":\"Grid\"},{\"id\":\"ca6cb534-69a8-4662-8574-6695851fc2c7\",\"type\":\"BoxAnnotation\"},{\"id\":\"c7f50b13-a2ca-4f84-aa46-403814b9305b\",\"type\":\"GlyphRenderer\"},{\"id\":\"883752eb-d571-4158-a039-716d4c982a04\",\"type\":\"GlyphRenderer\"}],\"title\":\"Draft Ranks\",\"tool_events\":{\"id\":\"2d23e7fa-a66a-4a49-b66a-a6dc44fc1504\",\"type\":\"ToolEvents\"},\"tools\":[{\"id\":\"9fe6ce64-9c8e-4bee-9f44-c6e40ff4bf25\",\"type\":\"HoverTool\"},{\"id\":\"1662e2ed-7ef3-4593-8193-7a8385c41b0a\",\"type\":\"BoxZoomTool\"},{\"id\":\"85c1aff7-374c-4a8c-9a1b-fd2ae4d299e2\",\"type\":\"CrosshairTool\"},{\"id\":\"780641a6-4198-45b7-96f4-ed19ab8645e8\",\"type\":\"ResizeTool\"},{\"id\":\"07c9ce9c-4840-4b66-b723-3bb75ff6db81\",\"type\":\"ResetTool\"},{\"id\":\"31ae7d7f-1b25-44fc-bc27-8abfe9866859\",\"type\":\"PanTool\"}],\"x_range\":{\"id\":\"59affcbe-fe9e-4780-80e6-3977284fe2b9\",\"type\":\"FactorRange\"},\"y_range\":{\"id\":\"c22f0918-28a9-4ebf-8881-b2e590f1f827\",\"type\":\"DataRange1d\"}},\"id\":\"1599e492-2fdb-4b8c-8495-7cb928cfde9a\",\"subtype\":\"Figure\",\"type\":\"Plot\"},{\"attributes\":{\"plot\":{\"id\":\"4799e5fb-5a3d-4b41-b155-68d724579271\",\"subtype\":\"Figure\",\"type\":\"Plot\"}},\"id\":\"5fa84043-8b95-44e2-b5d5-b979473d58e9\",\"type\":\"CrosshairTool\"},{\"attributes\":{\"overlay\":{\"id\":\"b0535e83-8c2c-4401-83c4-f70be4cee4e4\",\"type\":\"BoxAnnotation\"},\"plot\":{\"id\":\"c2973612-6a27-4943-b777-9a9ba3ceaa61\",\"subtype\":\"Figure\",\"type\":\"Plot\"}},\"id\":\"5d1f259f-71ed-4e45-a2d1-84aba900151f\",\"type\":\"BoxZoomTool\"},{\"attributes\":{\"callback\":null,\"column_names\":[\"status\",\"adp\",\"team\",\"bye_week\",\"x\",\"avg\",\"y\",\"x\"],\"data\":{\"adp\":[23.0,31.0,40.0,43.0,57.0,52.0,68.0,73.0,94.0,72.0,105.0,96.0,111.0,119.0,135.0,124.0,146.0],\"avg\":[32.3,34.3,42.6,43.5,52.5,58.5,68.9,83.1,84.4,85.3,90.2,102.2,107.3,116.1,118.3,116.6,119.0],\"bye_week\":[-1,-1,-1,-1,-1,-1,-1,-1,-1,-1,-1,-1,-1,-1,-1,-1,-1],\"status\":[\"over valued\",\"over valued\",\"over valued\",\"over valued\",\"under valued\",\"over valued\",\"over valued\",\"over valued\",\"under valued\",\"over valued\",\"under valued\",\"over valued\",\"under valued\",\"under valued\",\"under valued\",\"under valued\",\"under valued\"],\"team\":[\"FA\",\"FA\",\"FA\",\"FA\",\"FA\",\"FA\",\"FA\",\"FA\",\"FA\",\"FA\",\"FA\",\"FA\",\"FA\",\"FA\",\"FA\",\"FA\",\"FA\"],\"x\":[\"Cam Newton CAR\",\"Aaron Rodgers GB\",\"Russell Wilson SEA\",\"Andrew Luck IND\",\"Drew Brees NO\",\"Ben Roethlisberger PIT\",\"Carson Palmer ARI\",\"Blake Bortles JAC\",\"Eli Manning NYG\",\"Tom Brady NE\",\"Philip Rivers SD\",\"Tony Romo DAL\",\"Derek Carr OAK\",\"Andy Dalton CIN\",\"Kirk Cousins WAS\",\"Jameis Winston TB\",\"Tyrod Taylor BUF\"],\"y\":[23.0,31.0,40.0,43.0,57.0,52.0,68.0,73.0,94.0,72.0,105.0,96.0,111.0,119.0,124.0,135.0,146.0]}},\"id\":\"f89c2253-4c6d-44d2-a21c-49e6a4256a13\",\"type\":\"ColumnDataSource\"},{\"attributes\":{\"dimension\":1,\"plot\":{\"id\":\"ac30fd58-e5f1-431d-acbe-0510984e546a\",\"subtype\":\"Figure\",\"type\":\"Plot\"},\"ticker\":{\"id\":\"5d22de42-d5d8-4896-bfe4-2ed2c6941941\",\"type\":\"BasicTicker\"}},\"id\":\"051379d7-2093-4973-a997-5abcc6f24e89\",\"type\":\"Grid\"},{\"attributes\":{\"data_source\":{\"id\":\"0def38bb-20e7-41ad-abe8-25411b2db2f0\",\"type\":\"ColumnDataSource\"},\"glyph\":{\"id\":\"cbbffaa7-4614-4d67-a9fa-f81a118b7f77\",\"type\":\"Circle\"},\"hover_glyph\":null,\"nonselection_glyph\":{\"id\":\"f6a95a80-19cc-4683-9b88-764a317bf0af\",\"type\":\"Circle\"},\"selection_glyph\":null},\"id\":\"431568bf-fd21-479b-b209-400a07d578c3\",\"type\":\"GlyphRenderer\"},{\"attributes\":{\"plot\":{\"id\":\"4799e5fb-5a3d-4b41-b155-68d724579271\",\"subtype\":\"Figure\",\"type\":\"Plot\"}},\"id\":\"2c5c1a49-26a1-417c-98ce-23b2ecdc1e58\",\"type\":\"ResizeTool\"},{\"attributes\":{\"callback\":null,\"column_names\":[\"status\",\"adp\",\"team\",\"bye_week\",\"x\",\"avg\",\"y\",\"x\"],\"data\":{\"adp\":[4.0,7.0,6.0,15.0,8.0,2.0,13.0,19.0,16.0,22.0,20.0,27.0,37.0,35.0,34.0,30.0,41.0,46.0,47.0,49.0,53.0,55.0,61.0,74.0,80.0,71.0,56.0,82.0,58.0,76.0,77.0,85.0,84.0,99.0,88.0,116.0,123.0,108.0,100.0,117.0,132.0],\"avg\":[4.7,7.4,8.2,11.7,9.0,16.0,16.2,21.3,21.7,21.7,25.0,25.9,31.6,36.6,37.3,43.8,47.1,49.5,50.6,53.5,55.4,55.7,57.9,66.0,70.5,71.0,71.1,74.7,75.3,76.1,81.1,86.2,88.7,96.1,102.9,106.7,104.6,112.4,112.4,112.5,119.4],\"bye_week\":[-1,-1,-1,-1,-1,-1,-1,-1,-1,-1,-1,-1,-1,-1,-1,-1,-1,-1,-1,-1,-1,-1,-1,-1,-1,-1,-1,-1,-1,-1,-1,-1,-1,-1,-1,-1,-1,-1,-1,-1,-1],\"status\":[\"over valued\",\"over valued\",\"over valued\",\"under valued\",\"over valued\",\"over valued\",\"over valued\",\"over valued\",\"over valued\",\"under valued\",\"over valued\",\"under valued\",\"under valued\",\"over valued\",\"over valued\",\"over valued\",\"over valued\",\"over valued\",\"over valued\",\"over valued\",\"over valued\",\"over valued\",\"under valued\",\"under valued\",\"under valued\",\"faily valued\",\"over valued\",\"under valued\",\"over valued\",\"over valued\",\"over valued\",\"over valued\",\"over valued\",\"under valued\",\"over valued\",\"under valued\",\"under valued\",\"over valued\",\"over valued\",\"under valued\",\"under valued\"],\"team\":[\"FA\",\"FA\",\"FA\",\"FA\",\"FA\",\"FA\",\"FA\",\"FA\",\"FA\",\"FA\",\"FA\",\"FA\",\"FA\",\"FA\",\"FA\",\"FA\",\"FA\",\"FA\",\"FA\",\"FA\",\"FA\",\"FA\",\"FA\",\"FA\",\"FA\",\"FA\",\"FA\",\"FA\",\"FA\",\"FA\",\"FA\",\"FA\",\"FA\",\"FA\",\"FA\",\"FA\",\"FA\",\"FA\",\"FA\",\"FA\",\"FA\"],\"x\":[\"Todd Gurley LA\",\"David Johnson ARI\",\"Adrian Peterson MIN\",\"Ezekiel Elliott DAL\",\"Lamar Miller HOU\",\"Le'Veon Bell PIT\",\"Jamaal Charles KC\",\"Doug Martin TB\",\"Mark Ingram NO\",\"Devonta Freeman ATL\",\"Eddie Lacy GB\",\"LeSean McCoy BUF\",\"C.J. Anderson DEN\",\"Carlos Hyde SF\",\"Matt Forte NYJ\",\"Thomas Rawls SEA\",\"Latavius Murray OAK\",\"DeMarco Murray TEN\",\"Jonathan Stewart CAR\",\"Jeremy Hill CIN\",\"Ryan Mathews PHI\",\"Dion Lewis NE\",\"Matt Jones WAS\",\"Frank Gore IND\",\"Giovani Bernard CIN\",\"Melvin Gordon SD\",\"Jeremy Langford CHI\",\"Duke Johnson CLE\",\"Jay Ajayi MIA\",\"Ameer Abdullah DET\",\"Chris Ivory JAC\",\"Danny Woodhead SD\",\"T.J. Yeldon JAC\",\"Rashad Jennings NYG\",\"Justin Forsett BAL\",\"Arian Foster MIA\",\"Charles Sims TB\",\"DeAngelo Williams PIT\",\"Derrick Henry TEN\",\"Isaiah Crowell CLE\",\"Kenneth Dixon BAL\"],\"y\":[4.7,7.4,8.2,9.0,11.7,16.0,16.2,21.3,21.7,21.7,25.0,25.9,31.6,36.6,37.3,43.8,47.1,49.5,50.6,53.5,55.4,55.7,57.9,66.0,70.5,71.0,71.1,74.7,75.3,76.1,81.1,86.2,88.7,96.1,102.9,104.6,106.7,112.4,112.4,112.5,119.4]}},\"id\":\"3bdb6a0d-ee71-4162-9e03-764c90042b34\",\"type\":\"ColumnDataSource\"},{\"attributes\":{\"callback\":null},\"id\":\"cc016a4c-7c80-47af-91f7-b3c49dc14483\",\"type\":\"DataRange1d\"},{\"attributes\":{},\"id\":\"1b645aae-56e8-45b3-a565-6866068f3d22\",\"type\":\"BasicTickFormatter\"},{\"attributes\":{\"callback\":null,\"column_names\":[\"status\",\"adp\",\"team\",\"bye_week\",\"x\",\"avg\",\"y\",\"x\"],\"data\":{\"adp\":[10.0,39.0,44.0,63.0,66.0,75.0,60.0,83.0,103.0,93.0,89.0,120.0],\"avg\":[10.6,44.1,45.6,66.7,72.9,86.0,86.0,91.3,98.0,98.2,99.7,105.1],\"bye_week\":[-1,-1,-1,-1,-1,-1,-1,-1,-1,-1,-1,-1],\"status\":[\"over valued\",\"over valued\",\"over valued\",\"over valued\",\"over valued\",\"over valued\",\"over valued\",\"over valued\",\"under valued\",\"over valued\",\"over valued\",\"under valued\"],\"team\":[\"FA\",\"FA\",\"FA\",\"FA\",\"FA\",\"FA\",\"FA\",\"FA\",\"FA\",\"FA\",\"FA\",\"FA\"],\"x\":[\"Rob Gronkowski NE\",\"Jordan Reed WAS\",\"Greg Olsen CAR\",\"Travis Kelce KC\",\"Delanie Walker TEN\",\"Coby Fleener NO\",\"Tyler Eifert CIN\",\"Gary Barnidge CLE\",\"Julius Thomas JAC\",\"Zach Ertz PHI\",\"Ladarius Green PIT\",\"Antonio Gates SD\"],\"y\":[10.0,39.0,44.0,63.0,66.0,75.0,60.0,83.0,103.0,93.0,89.0,120.0]}},\"id\":\"a832f13b-4090-4a89-9a13-859648070768\",\"type\":\"ColumnDataSource\"},{\"attributes\":{\"callback\":null,\"column_names\":[\"status\",\"adp\",\"team\",\"bye_week\",\"x\",\"avg\",\"y\",\"x\"],\"data\":{\"adp\":[1.0,3.0,5.0,9.0,12.0,11.0,17.0,14.0,18.0,25.0,21.0,29.0,28.0,24.0,32.0,33.0,26.0,42.0,50.0,38.0,51.0,36.0,48.0,54.0,45.0,59.0,62.0,67.0,78.0,70.0,69.0,64.0,65.0,79.0,87.0,86.0,81.0,92.0,101.0,118.0,122.0,107.0,130.0,121.0,95.0,110.0,98.0,106.0,126.0,113.0],\"avg\":[1.4,3.4,3.8,9.5,10.3,10.6,15.1,16.1,19.6,20.2,24.5,24.8,25.7,26.3,30.1,30.2,34.6,39.8,44.1,45.4,46.5,47.2,50.7,51.3,52.5,57.9,62.5,64.1,62.8,66.0,66.3,66.7,71.4,73.8,80.0,83.3,88.0,86.0,98.8,103.7,105.1,110.8,112.5,111.2,108.3,113.9,115.7,114.6,117.4,115.0],\"bye_week\":[-1,-1,-1,-1,-1,-1,-1,-1,-1,-1,-1,-1,-1,-1,-1,-1,-1,-1,-1,-1,-1,-1,-1,-1,-1,-1,-1,-1,-1,-1,-1,-1,-1,-1,-1,-1,-1,-1,-1,-1,-1,-1,-1,-1,-1,-1,-1,-1,-1,-1],\"status\":[\"over valued\",\"over valued\",\"under valued\",\"over valued\",\"under valued\",\"under valued\",\"under valued\",\"over valued\",\"over valued\",\"under valued\",\"over valued\",\"under valued\",\"under valued\",\"over valued\",\"under valued\",\"under valued\",\"over valued\",\"under valued\",\"under valued\",\"over valued\",\"under valued\",\"over valued\",\"over valued\",\"under valued\",\"over valued\",\"under valued\",\"over valued\",\"under valued\",\"under valued\",\"under valued\",\"under valued\",\"over valued\",\"over valued\",\"under valued\",\"under valued\",\"under valued\",\"over valued\",\"under valued\",\"under valued\",\"under valued\",\"under valued\",\"over valued\",\"under valued\",\"under valued\",\"over valued\",\"over valued\",\"over valued\",\"over valued\",\"under valued\",\"over valued\"],\"team\":[\"FA\",\"FA\",\"FA\",\"FA\",\"FA\",\"FA\",\"FA\",\"FA\",\"FA\",\"FA\",\"FA\",\"FA\",\"FA\",\"FA\",\"FA\",\"FA\",\"FA\",\"FA\",\"FA\",\"FA\",\"FA\",\"FA\",\"FA\",\"FA\",\"FA\",\"FA\",\"FA\",\"FA\",\"FA\",\"FA\",\"FA\",\"FA\",\"FA\",\"FA\",\"FA\",\"FA\",\"FA\",\"FA\",\"FA\",\"FA\",\"FA\",\"FA\",\"FA\",\"FA\",\"FA\",\"FA\",\"FA\",\"FA\",\"FA\",\"FA\"],\"x\":[\"Antonio Brown PIT\",\"Odell Beckham Jr. NYG\",\"Julio Jones ATL\",\"DeAndre Hopkins HOU\",\"A.J. Green CIN\",\"Dez Bryant DAL\",\"Allen Robinson JAC\",\"Jordy Nelson GB\",\"Alshon Jeffery CHI\",\"Mike Evans TB\",\"Brandon Marshall NYJ\",\"Keenan Allen SD\",\"Brandin Cooks NO\",\"Amari Cooper OAK\",\"Demaryius Thomas DEN\",\"T.Y. Hilton IND\",\"Sammy Watkins BUF\",\"Randall Cobb GB\",\"Jeremy Maclin KC\",\"Julian Edelman NE\",\"Golden Tate DET\",\"Kelvin Benjamin CAR\",\"Jarvis Landry MIA\",\"Eric Decker NYJ\",\"Doug Baldwin SEA\",\"Michael Floyd ARI\",\"Larry Fitzgerald ARI\",\"Donte Moncrief IND\",\"Jordan Matthews PHI\",\"John Brown ARI\",\"Devante Parker MIA\",\"Emmanuel Sanders DEN\",\"Allen Hurns JAC\",\"DeSean Jackson WAS\",\"Tyler Lockett SEA\",\"Michael Crabtree OAK\",\"Marvin Jones DET\",\"Kevin White CHI\",\"Corey Coleman CLE\",\"Willie Snead NO\",\"Torrey Smith SF\",\"Sterling Shepard NYG\",\"Markus Wheaton PIT\",\"Tavon Austin LA\",\"Vincent Jackson TB\",\"Dorial Green-Beckham TEN\",\"Stefon Diggs MIN\",\"Laquon Treadwell MIN\",\"Steve Smith BAL\",\"Travis Benjamin SD\"],\"y\":[1.4,3.4,3.8,9.5,10.3,10.6,15.1,16.1,19.6,20.2,24.5,24.8,25.7,26.3,30.1,30.2,34.6,39.8,44.1,45.4,46.5,47.2,50.7,51.3,52.5,57.9,62.5,62.8,64.1,66.0,66.3,66.7,71.4,73.8,80.0,83.3,86.0,88.0,98.8,103.7,105.1,108.3,110.8,111.2,112.5,113.9,114.6,115.0,115.7,117.4]}},\"id\":\"e448d886-24c7-4350-820d-96eb790ae063\",\"type\":\"ColumnDataSource\"},{\"attributes\":{\"plot\":{\"id\":\"ac30fd58-e5f1-431d-acbe-0510984e546a\",\"subtype\":\"Figure\",\"type\":\"Plot\"}},\"id\":\"58aaf37d-ba61-49fc-8069-a9a93d37ea26\",\"type\":\"CrosshairTool\"},{\"attributes\":{\"fill_alpha\":{\"value\":0.2},\"fill_color\":{\"value\":\"blue\"},\"line_color\":{\"value\":\"blue\"},\"size\":{\"units\":\"screen\",\"value\":10},\"x\":{\"field\":\"x\"},\"y\":{\"field\":\"y\"}},\"id\":\"cbbffaa7-4614-4d67-a9fa-f81a118b7f77\",\"type\":\"Circle\"},{\"attributes\":{\"bottom_units\":\"screen\",\"fill_alpha\":{\"value\":0.5},\"fill_color\":{\"value\":\"lightgrey\"},\"left_units\":\"screen\",\"level\":\"overlay\",\"line_alpha\":{\"value\":1.0},\"line_color\":{\"value\":\"black\"},\"line_dash\":[4,4],\"line_width\":{\"value\":2},\"plot\":null,\"render_mode\":\"css\",\"right_units\":\"screen\",\"top_units\":\"screen\"},\"id\":\"b0535e83-8c2c-4401-83c4-f70be4cee4e4\",\"type\":\"BoxAnnotation\"},{\"attributes\":{\"plot\":{\"id\":\"c2973612-6a27-4943-b777-9a9ba3ceaa61\",\"subtype\":\"Figure\",\"type\":\"Plot\"}},\"id\":\"54794a82-63df-46c1-b2a5-ab27b824dbc5\",\"type\":\"ResizeTool\"},{\"attributes\":{\"plot\":{\"id\":\"ac30fd58-e5f1-431d-acbe-0510984e546a\",\"subtype\":\"Figure\",\"type\":\"Plot\"},\"ticker\":{\"id\":\"189337b6-1b48-4177-a04a-c4ac6328021a\",\"type\":\"CategoricalTicker\"}},\"id\":\"f54a54ae-0b49-40bf-a4e2-bfafec413aaa\",\"type\":\"Grid\"},{\"attributes\":{\"data_source\":{\"id\":\"a832f13b-4090-4a89-9a13-859648070768\",\"type\":\"ColumnDataSource\"},\"glyph\":{\"id\":\"3c227e97-2e10-423a-9278-e3665e4e9b04\",\"type\":\"Circle\"},\"hover_glyph\":null,\"nonselection_glyph\":{\"id\":\"d1b56dab-35b6-4d98-996b-788b222a0c11\",\"type\":\"Circle\"},\"selection_glyph\":null},\"id\":\"c7f50b13-a2ca-4f84-aa46-403814b9305b\",\"type\":\"GlyphRenderer\"},{\"attributes\":{\"fill_alpha\":{\"value\":0.1},\"fill_color\":{\"value\":\"#1f77b4\"},\"line_alpha\":{\"value\":0.1},\"line_color\":{\"value\":\"#1f77b4\"},\"size\":{\"units\":\"screen\",\"value\":10},\"x\":{\"field\":\"x\"},\"y\":{\"field\":\"y\"}},\"id\":\"82f6ee13-9e6e-4c09-ad2b-381831ee24df\",\"type\":\"Circle\"},{\"attributes\":{\"fill_alpha\":{\"value\":0.1},\"fill_color\":{\"value\":\"#1f77b4\"},\"line_alpha\":{\"value\":0.1},\"line_color\":{\"value\":\"#1f77b4\"},\"size\":{\"units\":\"screen\",\"value\":10},\"x\":{\"field\":\"x\"},\"y\":{\"field\":\"y\"}},\"id\":\"d1b56dab-35b6-4d98-996b-788b222a0c11\",\"type\":\"Circle\"},{\"attributes\":{\"plot\":{\"id\":\"ac30fd58-e5f1-431d-acbe-0510984e546a\",\"subtype\":\"Figure\",\"type\":\"Plot\"}},\"id\":\"60d739ee-c5e1-4c1c-82c9-009058af9e55\",\"type\":\"ResizeTool\"},{\"attributes\":{\"data_source\":{\"id\":\"e448d886-24c7-4350-820d-96eb790ae063\",\"type\":\"ColumnDataSource\"},\"glyph\":{\"id\":\"42e6edd2-40a9-4181-8954-39daada5c594\",\"type\":\"Circle\"},\"hover_glyph\":null,\"nonselection_glyph\":{\"id\":\"dd21f053-3139-4337-a0be-16396064ca77\",\"type\":\"Circle\"},\"selection_glyph\":null},\"id\":\"96e2371b-7e8c-4687-a8b5-70fde1c1721d\",\"type\":\"GlyphRenderer\"},{\"attributes\":{\"callback\":null,\"factors\":[\"Antonio Brown PIT\",\"Odell Beckham Jr. NYG\",\"Julio Jones ATL\",\"DeAndre Hopkins HOU\",\"A.J. Green CIN\",\"Dez Bryant DAL\",\"Allen Robinson JAC\",\"Jordy Nelson GB\",\"Alshon Jeffery CHI\",\"Mike Evans TB\",\"Brandon Marshall NYJ\",\"Keenan Allen SD\",\"Brandin Cooks NO\",\"Amari Cooper OAK\",\"Demaryius Thomas DEN\",\"T.Y. Hilton IND\",\"Sammy Watkins BUF\",\"Randall Cobb GB\",\"Jeremy Maclin KC\",\"Julian Edelman NE\",\"Golden Tate DET\",\"Kelvin Benjamin CAR\",\"Jarvis Landry MIA\",\"Eric Decker NYJ\",\"Doug Baldwin SEA\",\"Michael Floyd ARI\",\"Larry Fitzgerald ARI\",\"Donte Moncrief IND\",\"Jordan Matthews PHI\",\"John Brown ARI\",\"Devante Parker MIA\",\"Emmanuel Sanders DEN\",\"Allen Hurns JAC\",\"DeSean Jackson WAS\",\"Tyler Lockett SEA\",\"Michael Crabtree OAK\",\"Marvin Jones DET\",\"Kevin White CHI\",\"Corey Coleman CLE\",\"Willie Snead NO\",\"Torrey Smith SF\",\"Sterling Shepard NYG\",\"Markus Wheaton PIT\",\"Tavon Austin LA\",\"Vincent Jackson TB\",\"Dorial Green-Beckham TEN\",\"Stefon Diggs MIN\",\"Laquon Treadwell MIN\",\"Steve Smith BAL\",\"Travis Benjamin SD\"]},\"id\":\"4a1cea97-af18-4b50-a0b5-19665cd60813\",\"type\":\"FactorRange\"},{\"attributes\":{\"fill_alpha\":{\"value\":0.2},\"fill_color\":{\"value\":\"blue\"},\"line_color\":{\"value\":\"blue\"},\"size\":{\"units\":\"screen\",\"value\":10},\"x\":{\"field\":\"x\"},\"y\":{\"field\":\"y\"}},\"id\":\"a14a4588-0db4-4c33-b2dc-44ea6e0b5413\",\"type\":\"Circle\"},{\"attributes\":{\"data_source\":{\"id\":\"f89c2253-4c6d-44d2-a21c-49e6a4256a13\",\"type\":\"ColumnDataSource\"},\"glyph\":{\"id\":\"8ae8a466-e2ce-4b47-93a7-a8da1ce2d5d9\",\"type\":\"Circle\"},\"hover_glyph\":null,\"nonselection_glyph\":{\"id\":\"82f6ee13-9e6e-4c09-ad2b-381831ee24df\",\"type\":\"Circle\"},\"selection_glyph\":null},\"id\":\"79052b6a-e5ee-46e1-91f6-644dd3f57129\",\"type\":\"GlyphRenderer\"},{\"attributes\":{\"callback\":null,\"factors\":[\"Cam Newton CAR\",\"Aaron Rodgers GB\",\"Russell Wilson SEA\",\"Andrew Luck IND\",\"Drew Brees NO\",\"Ben Roethlisberger PIT\",\"Carson Palmer ARI\",\"Blake Bortles JAC\",\"Eli Manning NYG\",\"Tom Brady NE\",\"Philip Rivers SD\",\"Tony Romo DAL\",\"Derek Carr OAK\",\"Andy Dalton CIN\",\"Kirk Cousins WAS\",\"Jameis Winston TB\",\"Tyrod Taylor BUF\"]},\"id\":\"996906fe-c52d-46fc-8e8e-39a563b0d1e5\",\"type\":\"FactorRange\"},{\"attributes\":{\"callback\":null,\"column_names\":[\"status\",\"adp\",\"team\",\"bye_week\",\"x\",\"avg\",\"y\",\"x\"],\"data\":{\"adp\":[4.0,7.0,6.0,15.0,8.0,2.0,13.0,19.0,16.0,22.0,20.0,27.0,37.0,35.0,34.0,30.0,41.0,46.0,47.0,49.0,53.0,55.0,61.0,74.0,80.0,71.0,56.0,82.0,58.0,76.0,77.0,85.0,84.0,99.0,88.0,116.0,123.0,108.0,100.0,117.0,132.0],\"avg\":[4.7,7.4,8.2,11.7,9.0,16.0,16.2,21.3,21.7,21.7,25.0,25.9,31.6,36.6,37.3,43.8,47.1,49.5,50.6,53.5,55.4,55.7,57.9,66.0,70.5,71.0,71.1,74.7,75.3,76.1,81.1,86.2,88.7,96.1,102.9,106.7,104.6,112.4,112.4,112.5,119.4],\"bye_week\":[-1,-1,-1,-1,-1,-1,-1,-1,-1,-1,-1,-1,-1,-1,-1,-1,-1,-1,-1,-1,-1,-1,-1,-1,-1,-1,-1,-1,-1,-1,-1,-1,-1,-1,-1,-1,-1,-1,-1,-1,-1],\"status\":[\"over valued\",\"over valued\",\"over valued\",\"under valued\",\"over valued\",\"over valued\",\"over valued\",\"over valued\",\"over valued\",\"under valued\",\"over valued\",\"under valued\",\"under valued\",\"over valued\",\"over valued\",\"over valued\",\"over valued\",\"over valued\",\"over valued\",\"over valued\",\"over valued\",\"over valued\",\"under valued\",\"under valued\",\"under valued\",\"faily valued\",\"over valued\",\"under valued\",\"over valued\",\"over valued\",\"over valued\",\"over valued\",\"over valued\",\"under valued\",\"over valued\",\"under valued\",\"under valued\",\"over valued\",\"over valued\",\"under valued\",\"under valued\"],\"team\":[\"FA\",\"FA\",\"FA\",\"FA\",\"FA\",\"FA\",\"FA\",\"FA\",\"FA\",\"FA\",\"FA\",\"FA\",\"FA\",\"FA\",\"FA\",\"FA\",\"FA\",\"FA\",\"FA\",\"FA\",\"FA\",\"FA\",\"FA\",\"FA\",\"FA\",\"FA\",\"FA\",\"FA\",\"FA\",\"FA\",\"FA\",\"FA\",\"FA\",\"FA\",\"FA\",\"FA\",\"FA\",\"FA\",\"FA\",\"FA\",\"FA\"],\"x\":[\"Todd Gurley LA\",\"David Johnson ARI\",\"Adrian Peterson MIN\",\"Ezekiel Elliott DAL\",\"Lamar Miller HOU\",\"Le'Veon Bell PIT\",\"Jamaal Charles KC\",\"Doug Martin TB\",\"Mark Ingram NO\",\"Devonta Freeman ATL\",\"Eddie Lacy GB\",\"LeSean McCoy BUF\",\"C.J. Anderson DEN\",\"Carlos Hyde SF\",\"Matt Forte NYJ\",\"Thomas Rawls SEA\",\"Latavius Murray OAK\",\"DeMarco Murray TEN\",\"Jonathan Stewart CAR\",\"Jeremy Hill CIN\",\"Ryan Mathews PHI\",\"Dion Lewis NE\",\"Matt Jones WAS\",\"Frank Gore IND\",\"Giovani Bernard CIN\",\"Melvin Gordon SD\",\"Jeremy Langford CHI\",\"Duke Johnson CLE\",\"Jay Ajayi MIA\",\"Ameer Abdullah DET\",\"Chris Ivory JAC\",\"Danny Woodhead SD\",\"T.J. Yeldon JAC\",\"Rashad Jennings NYG\",\"Justin Forsett BAL\",\"Arian Foster MIA\",\"Charles Sims TB\",\"DeAngelo Williams PIT\",\"Derrick Henry TEN\",\"Isaiah Crowell CLE\",\"Kenneth Dixon BAL\"],\"y\":[4.0,7.0,6.0,8.0,15.0,2.0,13.0,19.0,22.0,16.0,20.0,27.0,37.0,35.0,34.0,30.0,41.0,46.0,47.0,49.0,53.0,55.0,61.0,74.0,80.0,71.0,56.0,82.0,58.0,76.0,77.0,85.0,84.0,99.0,88.0,123.0,116.0,108.0,100.0,117.0,132.0]}},\"id\":\"35c98e87-4235-4d32-a3b5-bde6ccef18c4\",\"type\":\"ColumnDataSource\"},{\"attributes\":{\"bottom_units\":\"screen\",\"fill_alpha\":{\"value\":0.5},\"fill_color\":{\"value\":\"lightgrey\"},\"left_units\":\"screen\",\"level\":\"overlay\",\"line_alpha\":{\"value\":1.0},\"line_color\":{\"value\":\"black\"},\"line_dash\":[4,4],\"line_width\":{\"value\":2},\"plot\":null,\"render_mode\":\"css\",\"right_units\":\"screen\",\"top_units\":\"screen\"},\"id\":\"2ba40f8b-5edd-41c7-87a0-cf9afa049ad3\",\"type\":\"BoxAnnotation\"},{\"attributes\":{\"fill_alpha\":{\"value\":0.2},\"fill_color\":{\"value\":\"red\"},\"line_color\":{\"value\":\"red\"},\"size\":{\"units\":\"screen\",\"value\":10},\"x\":{\"field\":\"x\"},\"y\":{\"field\":\"y\"}},\"id\":\"0ff176a0-6c62-40ea-a11f-5161f5a780dc\",\"type\":\"Circle\"},{\"attributes\":{\"fill_alpha\":{\"value\":0.2},\"fill_color\":{\"value\":\"red\"},\"line_color\":{\"value\":\"red\"},\"size\":{\"units\":\"screen\",\"value\":10},\"x\":{\"field\":\"x\"},\"y\":{\"field\":\"y\"}},\"id\":\"b799a951-c17b-4d76-a88b-71347e0c8544\",\"type\":\"Circle\"},{\"attributes\":{\"dimension\":1,\"plot\":{\"id\":\"6ad85410-86c0-48f6-bdb2-e8fa460b42bc\",\"subtype\":\"Figure\",\"type\":\"Plot\"},\"ticker\":{\"id\":\"4a4d2a8f-cd67-497f-b7a1-2be5897aab8c\",\"type\":\"BasicTicker\"}},\"id\":\"163ede76-2094-4802-a705-0129bc995153\",\"type\":\"Grid\"},{\"attributes\":{\"below\":[{\"id\":\"c8ec7d92-a1fa-4952-8465-86fb5b579f7b\",\"type\":\"CategoricalAxis\"}],\"left\":[{\"id\":\"f022616a-7265-44c9-b3f2-c6ae82f4e31e\",\"type\":\"LinearAxis\"}],\"plot_height\":800,\"plot_width\":800,\"renderers\":[{\"id\":\"c8ec7d92-a1fa-4952-8465-86fb5b579f7b\",\"type\":\"CategoricalAxis\"},{\"id\":\"a2d0d6d6-978d-4a28-a44e-63a6f15ad9f8\",\"type\":\"Grid\"},{\"id\":\"f022616a-7265-44c9-b3f2-c6ae82f4e31e\",\"type\":\"LinearAxis\"},{\"id\":\"163ede76-2094-4802-a705-0129bc995153\",\"type\":\"Grid\"},{\"id\":\"97d9504a-7eb1-460d-8c2d-c195ef932c08\",\"type\":\"BoxAnnotation\"},{\"id\":\"94e04b4c-b28c-49e5-8d03-00c783064169\",\"type\":\"GlyphRenderer\"},{\"id\":\"b5da6aa9-2d7c-4924-9a69-602cb05902c1\",\"type\":\"GlyphRenderer\"}],\"title\":\"Draft Ranks\",\"tool_events\":{\"id\":\"6ff4fc7a-4774-4fc2-8286-817a49b7a466\",\"type\":\"ToolEvents\"},\"tools\":[{\"id\":\"dba450de-0185-43dd-a033-27110ab36192\",\"type\":\"HoverTool\"},{\"id\":\"d4d3073f-df39-4eea-8c56-20a13f9a810e\",\"type\":\"BoxZoomTool\"},{\"id\":\"ae3bf99a-4c83-4691-84db-2516c1636000\",\"type\":\"CrosshairTool\"},{\"id\":\"eb336212-3e34-43e7-9d5e-1ceb68981171\",\"type\":\"ResizeTool\"},{\"id\":\"50672724-33df-4ba7-8521-db3d712bcf00\",\"type\":\"ResetTool\"},{\"id\":\"18ba41bf-c734-4f33-9b72-0674149dd174\",\"type\":\"PanTool\"}],\"x_range\":{\"id\":\"584b7a8a-ba5d-4a2b-a9f2-80337d892d33\",\"type\":\"FactorRange\"},\"y_range\":{\"id\":\"96b0520d-a49e-493a-b144-3ecb05c81fdc\",\"type\":\"DataRange1d\"}},\"id\":\"6ad85410-86c0-48f6-bdb2-e8fa460b42bc\",\"subtype\":\"Figure\",\"type\":\"Plot\"},{\"attributes\":{\"fill_alpha\":{\"value\":0.1},\"fill_color\":{\"value\":\"#1f77b4\"},\"line_alpha\":{\"value\":0.1},\"line_color\":{\"value\":\"#1f77b4\"},\"size\":{\"units\":\"screen\",\"value\":10},\"x\":{\"field\":\"x\"},\"y\":{\"field\":\"y\"}},\"id\":\"f6a95a80-19cc-4683-9b88-764a317bf0af\",\"type\":\"Circle\"},{\"attributes\":{\"plot\":{\"id\":\"1599e492-2fdb-4b8c-8495-7cb928cfde9a\",\"subtype\":\"Figure\",\"type\":\"Plot\"},\"ticker\":{\"id\":\"eefdf305-e69d-4ab8-8d01-3959bbdd3a60\",\"type\":\"CategoricalTicker\"}},\"id\":\"5fff3ce6-181b-4673-8e9b-ad193d130623\",\"type\":\"Grid\"},{\"attributes\":{\"plot\":{\"id\":\"c2973612-6a27-4943-b777-9a9ba3ceaa61\",\"subtype\":\"Figure\",\"type\":\"Plot\"}},\"id\":\"cb8888cb-2bc1-4dfb-b9bc-884c1d5ce4b7\",\"type\":\"PanTool\"},{\"attributes\":{},\"id\":\"8abbc464-340b-49f2-84a1-21ce99567abf\",\"type\":\"CategoricalTicker\"},{\"attributes\":{\"bottom_units\":\"screen\",\"fill_alpha\":{\"value\":0.5},\"fill_color\":{\"value\":\"lightgrey\"},\"left_units\":\"screen\",\"level\":\"overlay\",\"line_alpha\":{\"value\":1.0},\"line_color\":{\"value\":\"black\"},\"line_dash\":[4,4],\"line_width\":{\"value\":2},\"plot\":null,\"render_mode\":\"css\",\"right_units\":\"screen\",\"top_units\":\"screen\"},\"id\":\"97d9504a-7eb1-460d-8c2d-c195ef932c08\",\"type\":\"BoxAnnotation\"},{\"attributes\":{\"overlay\":{\"id\":\"2ba40f8b-5edd-41c7-87a0-cf9afa049ad3\",\"type\":\"BoxAnnotation\"},\"plot\":{\"id\":\"4799e5fb-5a3d-4b41-b155-68d724579271\",\"subtype\":\"Figure\",\"type\":\"Plot\"}},\"id\":\"c6296608-bbb5-4824-9727-d6e1d4e02863\",\"type\":\"BoxZoomTool\"},{\"attributes\":{\"fill_alpha\":{\"value\":0.2},\"fill_color\":{\"value\":\"red\"},\"line_color\":{\"value\":\"red\"},\"size\":{\"units\":\"screen\",\"value\":10},\"x\":{\"field\":\"x\"},\"y\":{\"field\":\"y\"}},\"id\":\"3c227e97-2e10-423a-9278-e3665e4e9b04\",\"type\":\"Circle\"},{\"attributes\":{\"plot\":{\"id\":\"6ad85410-86c0-48f6-bdb2-e8fa460b42bc\",\"subtype\":\"Figure\",\"type\":\"Plot\"},\"ticker\":{\"id\":\"8abbc464-340b-49f2-84a1-21ce99567abf\",\"type\":\"CategoricalTicker\"}},\"id\":\"a2d0d6d6-978d-4a28-a44e-63a6f15ad9f8\",\"type\":\"Grid\"},{\"attributes\":{\"bottom_units\":\"screen\",\"fill_alpha\":{\"value\":0.5},\"fill_color\":{\"value\":\"lightgrey\"},\"left_units\":\"screen\",\"level\":\"overlay\",\"line_alpha\":{\"value\":1.0},\"line_color\":{\"value\":\"black\"},\"line_dash\":[4,4],\"line_width\":{\"value\":2},\"plot\":null,\"render_mode\":\"css\",\"right_units\":\"screen\",\"top_units\":\"screen\"},\"id\":\"ca6cb534-69a8-4662-8574-6695851fc2c7\",\"type\":\"BoxAnnotation\"},{\"attributes\":{},\"id\":\"60ee7756-45a2-447c-90e4-3b2bfd03ab6a\",\"type\":\"BasicTickFormatter\"},{\"attributes\":{\"callback\":null,\"factors\":[\"Todd Gurley LA\",\"David Johnson ARI\",\"Adrian Peterson MIN\",\"Ezekiel Elliott DAL\",\"Lamar Miller HOU\",\"Le'Veon Bell PIT\",\"Jamaal Charles KC\",\"Doug Martin TB\",\"Mark Ingram NO\",\"Devonta Freeman ATL\",\"Eddie Lacy GB\",\"LeSean McCoy BUF\",\"C.J. Anderson DEN\",\"Carlos Hyde SF\",\"Matt Forte NYJ\",\"Thomas Rawls SEA\",\"Latavius Murray OAK\",\"DeMarco Murray TEN\",\"Jonathan Stewart CAR\",\"Jeremy Hill CIN\",\"Ryan Mathews PHI\",\"Dion Lewis NE\",\"Matt Jones WAS\",\"Frank Gore IND\",\"Giovani Bernard CIN\",\"Melvin Gordon SD\",\"Jeremy Langford CHI\",\"Duke Johnson CLE\",\"Jay Ajayi MIA\",\"Ameer Abdullah DET\",\"Chris Ivory JAC\",\"Danny Woodhead SD\",\"T.J. Yeldon JAC\",\"Rashad Jennings NYG\",\"Justin Forsett BAL\",\"Arian Foster MIA\",\"Charles Sims TB\",\"DeAngelo Williams PIT\",\"Derrick Henry TEN\",\"Isaiah Crowell CLE\",\"Kenneth Dixon BAL\"]},\"id\":\"584b7a8a-ba5d-4a2b-a9f2-80337d892d33\",\"type\":\"FactorRange\"},{\"attributes\":{\"plot\":{\"id\":\"6ad85410-86c0-48f6-bdb2-e8fa460b42bc\",\"subtype\":\"Figure\",\"type\":\"Plot\"}},\"id\":\"50672724-33df-4ba7-8521-db3d712bcf00\",\"type\":\"ResetTool\"},{\"attributes\":{\"plot\":{\"id\":\"1599e492-2fdb-4b8c-8495-7cb928cfde9a\",\"subtype\":\"Figure\",\"type\":\"Plot\"}},\"id\":\"31ae7d7f-1b25-44fc-bc27-8abfe9866859\",\"type\":\"PanTool\"},{\"attributes\":{\"plot\":{\"id\":\"4799e5fb-5a3d-4b41-b155-68d724579271\",\"subtype\":\"Figure\",\"type\":\"Plot\"},\"ticker\":{\"id\":\"9e667728-b748-49fa-8669-a16ce25eb256\",\"type\":\"CategoricalTicker\"}},\"id\":\"8990f09e-5982-432f-bc8f-ac70fae73831\",\"type\":\"Grid\"},{\"attributes\":{\"plot\":{\"id\":\"4799e5fb-5a3d-4b41-b155-68d724579271\",\"subtype\":\"Figure\",\"type\":\"Plot\"}},\"id\":\"bae20ac1-090d-42cb-b24b-446ac6e3bdac\",\"type\":\"PanTool\"},{\"attributes\":{\"dimension\":1,\"plot\":{\"id\":\"c2973612-6a27-4943-b777-9a9ba3ceaa61\",\"subtype\":\"Figure\",\"type\":\"Plot\"},\"ticker\":{\"id\":\"2752ca50-b66e-4583-8968-5c2756585113\",\"type\":\"BasicTicker\"}},\"id\":\"3e35ceaf-a4da-4952-aaeb-2c277538def9\",\"type\":\"Grid\"},{\"attributes\":{},\"id\":\"2752ca50-b66e-4583-8968-5c2756585113\",\"type\":\"BasicTicker\"},{\"attributes\":{\"callback\":null,\"plot\":{\"id\":\"ac30fd58-e5f1-431d-acbe-0510984e546a\",\"subtype\":\"Figure\",\"type\":\"Plot\"},\"tooltips\":[[\"Name\",\"$x\"],[\"Team\",\"@team\"],[\"Bye Week\",\"@bye_week\"],[\"Expert Avg\",\"@avg\"],[\"ADP\",\"@adp\"],[\"Status\",\"@status\"]]},\"id\":\"122ea16b-e5c8-4d73-b67b-38d858956301\",\"type\":\"HoverTool\"},{\"attributes\":{\"plot\":{\"id\":\"1599e492-2fdb-4b8c-8495-7cb928cfde9a\",\"subtype\":\"Figure\",\"type\":\"Plot\"}},\"id\":\"780641a6-4198-45b7-96f4-ed19ab8645e8\",\"type\":\"ResizeTool\"},{\"attributes\":{\"below\":[{\"id\":\"1a350348-5251-4e58-af6a-67c12c89426e\",\"type\":\"CategoricalAxis\"}],\"left\":[{\"id\":\"01a028ef-e379-4bf2-b55d-fea489754be9\",\"type\":\"LinearAxis\"}],\"plot_height\":800,\"plot_width\":800,\"renderers\":[{\"id\":\"1a350348-5251-4e58-af6a-67c12c89426e\",\"type\":\"CategoricalAxis\"},{\"id\":\"f54a54ae-0b49-40bf-a4e2-bfafec413aaa\",\"type\":\"Grid\"},{\"id\":\"01a028ef-e379-4bf2-b55d-fea489754be9\",\"type\":\"LinearAxis\"},{\"id\":\"051379d7-2093-4973-a997-5abcc6f24e89\",\"type\":\"Grid\"},{\"id\":\"a50f61ba-a6b2-412f-b9eb-d66dad7860d1\",\"type\":\"BoxAnnotation\"},{\"id\":\"1295b669-1ba5-46f1-8688-2eedf1941583\",\"type\":\"GlyphRenderer\"},{\"id\":\"431568bf-fd21-479b-b209-400a07d578c3\",\"type\":\"GlyphRenderer\"}],\"title\":\"Draft Ranks\",\"tool_events\":{\"id\":\"adbbd823-ebed-4352-8685-c33fb795a83e\",\"type\":\"ToolEvents\"},\"tools\":[{\"id\":\"122ea16b-e5c8-4d73-b67b-38d858956301\",\"type\":\"HoverTool\"},{\"id\":\"6aaf84ee-66ca-4ddf-8419-088c3e538006\",\"type\":\"BoxZoomTool\"},{\"id\":\"58aaf37d-ba61-49fc-8069-a9a93d37ea26\",\"type\":\"CrosshairTool\"},{\"id\":\"60d739ee-c5e1-4c1c-82c9-009058af9e55\",\"type\":\"ResizeTool\"},{\"id\":\"8827d984-2349-4f04-ae27-643bc216ce3a\",\"type\":\"ResetTool\"},{\"id\":\"959fe6d2-b74c-425b-96aa-12f46017d5e2\",\"type\":\"PanTool\"}],\"x_range\":{\"id\":\"67d2fe9f-73e0-46a5-a543-626f30f6165c\",\"type\":\"FactorRange\"},\"y_range\":{\"id\":\"cc016a4c-7c80-47af-91f7-b3c49dc14483\",\"type\":\"DataRange1d\"}},\"id\":\"ac30fd58-e5f1-431d-acbe-0510984e546a\",\"subtype\":\"Figure\",\"type\":\"Plot\"},{\"attributes\":{\"axis_label\":\"Player\",\"formatter\":{\"id\":\"0f397d48-620f-4cbc-8549-f74b0f3550ca\",\"type\":\"CategoricalTickFormatter\"},\"major_label_orientation\":120,\"plot\":{\"id\":\"1599e492-2fdb-4b8c-8495-7cb928cfde9a\",\"subtype\":\"Figure\",\"type\":\"Plot\"},\"ticker\":{\"id\":\"eefdf305-e69d-4ab8-8d01-3959bbdd3a60\",\"type\":\"CategoricalTicker\"}},\"id\":\"36a49361-6eb1-4ff1-bc06-576b770793ca\",\"type\":\"CategoricalAxis\"},{\"attributes\":{\"callback\":null,\"column_names\":[\"status\",\"adp\",\"team\",\"bye_week\",\"x\",\"avg\",\"y\",\"x\"],\"data\":{\"adp\":[1.0,3.0,5.0,9.0,12.0,11.0,17.0,14.0,18.0,25.0,21.0,29.0,28.0,24.0,32.0,33.0,26.0,42.0,50.0,38.0,51.0,36.0,48.0,54.0,45.0,59.0,62.0,67.0,78.0,70.0,69.0,64.0,65.0,79.0,87.0,86.0,81.0,92.0,101.0,118.0,122.0,107.0,130.0,121.0,95.0,110.0,98.0,106.0,126.0,113.0],\"avg\":[1.4,3.4,3.8,9.5,10.3,10.6,15.1,16.1,19.6,20.2,24.5,24.8,25.7,26.3,30.1,30.2,34.6,39.8,44.1,45.4,46.5,47.2,50.7,51.3,52.5,57.9,62.5,64.1,62.8,66.0,66.3,66.7,71.4,73.8,80.0,83.3,88.0,86.0,98.8,103.7,105.1,110.8,112.5,111.2,108.3,113.9,115.7,114.6,117.4,115.0],\"bye_week\":[-1,-1,-1,-1,-1,-1,-1,-1,-1,-1,-1,-1,-1,-1,-1,-1,-1,-1,-1,-1,-1,-1,-1,-1,-1,-1,-1,-1,-1,-1,-1,-1,-1,-1,-1,-1,-1,-1,-1,-1,-1,-1,-1,-1,-1,-1,-1,-1,-1,-1],\"status\":[\"over valued\",\"over valued\",\"under valued\",\"over valued\",\"under valued\",\"under valued\",\"under valued\",\"over valued\",\"over valued\",\"under valued\",\"over valued\",\"under valued\",\"under valued\",\"over valued\",\"under valued\",\"under valued\",\"over valued\",\"under valued\",\"under valued\",\"over valued\",\"under valued\",\"over valued\",\"over valued\",\"under valued\",\"over valued\",\"under valued\",\"over valued\",\"under valued\",\"under valued\",\"under valued\",\"under valued\",\"over valued\",\"over valued\",\"under valued\",\"under valued\",\"under valued\",\"over valued\",\"under valued\",\"under valued\",\"under valued\",\"under valued\",\"over valued\",\"under valued\",\"under valued\",\"over valued\",\"over valued\",\"over valued\",\"over valued\",\"under valued\",\"over valued\"],\"team\":[\"FA\",\"FA\",\"FA\",\"FA\",\"FA\",\"FA\",\"FA\",\"FA\",\"FA\",\"FA\",\"FA\",\"FA\",\"FA\",\"FA\",\"FA\",\"FA\",\"FA\",\"FA\",\"FA\",\"FA\",\"FA\",\"FA\",\"FA\",\"FA\",\"FA\",\"FA\",\"FA\",\"FA\",\"FA\",\"FA\",\"FA\",\"FA\",\"FA\",\"FA\",\"FA\",\"FA\",\"FA\",\"FA\",\"FA\",\"FA\",\"FA\",\"FA\",\"FA\",\"FA\",\"FA\",\"FA\",\"FA\",\"FA\",\"FA\",\"FA\"],\"x\":[\"Antonio Brown PIT\",\"Odell Beckham Jr. NYG\",\"Julio Jones ATL\",\"DeAndre Hopkins HOU\",\"A.J. Green CIN\",\"Dez Bryant DAL\",\"Allen Robinson JAC\",\"Jordy Nelson GB\",\"Alshon Jeffery CHI\",\"Mike Evans TB\",\"Brandon Marshall NYJ\",\"Keenan Allen SD\",\"Brandin Cooks NO\",\"Amari Cooper OAK\",\"Demaryius Thomas DEN\",\"T.Y. Hilton IND\",\"Sammy Watkins BUF\",\"Randall Cobb GB\",\"Jeremy Maclin KC\",\"Julian Edelman NE\",\"Golden Tate DET\",\"Kelvin Benjamin CAR\",\"Jarvis Landry MIA\",\"Eric Decker NYJ\",\"Doug Baldwin SEA\",\"Michael Floyd ARI\",\"Larry Fitzgerald ARI\",\"Donte Moncrief IND\",\"Jordan Matthews PHI\",\"John Brown ARI\",\"Devante Parker MIA\",\"Emmanuel Sanders DEN\",\"Allen Hurns JAC\",\"DeSean Jackson WAS\",\"Tyler Lockett SEA\",\"Michael Crabtree OAK\",\"Marvin Jones DET\",\"Kevin White CHI\",\"Corey Coleman CLE\",\"Willie Snead NO\",\"Torrey Smith SF\",\"Sterling Shepard NYG\",\"Markus Wheaton PIT\",\"Tavon Austin LA\",\"Vincent Jackson TB\",\"Dorial Green-Beckham TEN\",\"Stefon Diggs MIN\",\"Laquon Treadwell MIN\",\"Steve Smith BAL\",\"Travis Benjamin SD\"],\"y\":[1.0,3.0,5.0,9.0,12.0,11.0,17.0,14.0,18.0,25.0,21.0,29.0,28.0,24.0,32.0,33.0,26.0,42.0,50.0,38.0,51.0,36.0,48.0,54.0,45.0,59.0,62.0,78.0,67.0,70.0,69.0,64.0,65.0,79.0,87.0,86.0,92.0,81.0,101.0,118.0,122.0,95.0,107.0,121.0,130.0,110.0,106.0,113.0,98.0,126.0]}},\"id\":\"d75392c0-91aa-4636-b997-99e4acd9b135\",\"type\":\"ColumnDataSource\"},{\"attributes\":{},\"id\":\"c60e377d-bd86-4df0-b92c-bf4721017970\",\"type\":\"CategoricalTickFormatter\"},{\"attributes\":{\"callback\":null,\"column_names\":[\"status\",\"adp\",\"team\",\"bye_week\",\"x\",\"avg\",\"y\",\"x\"],\"data\":{\"adp\":[1.0,3.0,5.0,4.0,7.0,6.0,9.0,12.0,10.0,11.0,15.0,8.0,17.0,2.0,14.0,13.0,18.0,25.0,19.0,16.0,22.0,21.0,29.0,20.0,28.0,27.0,24.0,32.0,33.0,37.0,23.0,26.0,35.0,34.0,31.0,42.0,30.0,50.0,39.0,38.0,44.0,40.0,51.0,43.0,41.0,36.0,46.0,47.0,48.0,54.0,45.0,49.0,53.0,57.0,55.0,61.0,59.0,52.0,62.0,67.0,78.0,70.0,74.0,69.0,63.0,64.0,80.0,71.0,56.0,65.0,68.0,66.0,79.0,82.0,58.0,76.0,87.0,86.0,77.0,73.0,75.0,60.0,85.0,94.0,72.0,81.0,92.0,84.0,83.0,105.0,99.0,103.0,93.0,89.0,101.0,88.0,118.0,96.0,122.0,120.0,116.0,111.0,107.0,123.0,108.0,130.0,121.0,95.0,100.0,110.0,98.0,117.0,106.0,119.0,126.0,135.0,124.0,113.0,146.0,132.0],\"avg\":[1.4,3.4,3.8,4.7,7.4,8.2,9.5,10.3,10.6,10.6,11.7,9.0,15.1,16.0,16.1,16.2,19.6,20.2,21.3,21.7,21.7,24.5,24.8,25.0,25.7,25.9,26.3,30.1,30.2,31.6,32.3,34.6,36.6,37.3,34.3,39.8,43.8,44.1,44.1,45.4,45.6,42.6,46.5,43.5,47.1,47.2,49.5,50.6,50.7,51.3,52.5,53.5,55.4,52.5,55.7,57.9,57.9,58.5,62.5,64.1,62.8,66.0,66.0,66.3,66.7,66.7,70.5,71.0,71.1,71.4,68.9,72.9,73.8,74.7,75.3,76.1,80.0,83.3,81.1,83.1,86.0,86.0,86.2,84.4,85.3,88.0,86.0,88.7,91.3,90.2,96.1,98.0,98.2,99.7,98.8,102.9,103.7,102.2,105.1,105.1,106.7,107.3,110.8,104.6,112.4,112.5,111.2,108.3,112.4,113.9,115.7,112.5,114.6,116.1,117.4,118.3,116.6,115.0,119.0,119.4],\"bye_week\":[-1,-1,-1,-1,-1,-1,-1,-1,-1,-1,-1,-1,-1,-1,-1,-1,-1,-1,-1,-1,-1,-1,-1,-1,-1,-1,-1,-1,-1,-1,-1,-1,-1,-1,-1,-1,-1,-1,-1,-1,-1,-1,-1,-1,-1,-1,-1,-1,-1,-1,-1,-1,-1,-1,-1,-1,-1,-1,-1,-1,-1,-1,-1,-1,-1,-1,-1,-1,-1,-1,-1,-1,-1,-1,-1,-1,-1,-1,-1,-1,-1,-1,-1,-1,-1,-1,-1,-1,-1,-1,-1,-1,-1,-1,-1,-1,-1,-1,-1,-1,-1,-1,-1,-1,-1,-1,-1,-1,-1,-1,-1,-1,-1,-1,-1,-1,-1,-1,-1,-1],\"status\":[\"over valued\",\"over valued\",\"under valued\",\"over valued\",\"over valued\",\"over valued\",\"over valued\",\"under valued\",\"over valued\",\"under valued\",\"under valued\",\"over valued\",\"under valued\",\"over valued\",\"over valued\",\"over valued\",\"over valued\",\"under valued\",\"over valued\",\"over valued\",\"under valued\",\"over valued\",\"under valued\",\"over valued\",\"under valued\",\"under valued\",\"over valued\",\"under valued\",\"under valued\",\"under valued\",\"over valued\",\"over valued\",\"over valued\",\"over valued\",\"over valued\",\"under valued\",\"over valued\",\"under valued\",\"over valued\",\"over valued\",\"over valued\",\"over valued\",\"under valued\",\"over valued\",\"over valued\",\"over valued\",\"over valued\",\"over valued\",\"over valued\",\"under valued\",\"over valued\",\"over valued\",\"over valued\",\"under valued\",\"over valued\",\"under valued\",\"under valued\",\"over valued\",\"over valued\",\"under valued\",\"under valued\",\"under valued\",\"under valued\",\"under valued\",\"over valued\",\"over valued\",\"under valued\",\"faily valued\",\"over valued\",\"over valued\",\"over valued\",\"over valued\",\"under valued\",\"under valued\",\"over valued\",\"over valued\",\"under valued\",\"under valued\",\"over valued\",\"over valued\",\"over valued\",\"over valued\",\"over valued\",\"under valued\",\"over valued\",\"over valued\",\"under valued\",\"over valued\",\"over valued\",\"under valued\",\"under valued\",\"under valued\",\"over valued\",\"over valued\",\"under valued\",\"over valued\",\"under valued\",\"over valued\",\"under valued\",\"under valued\",\"under valued\",\"under valued\",\"over valued\",\"under valued\",\"over valued\",\"under valued\",\"under valued\",\"over valued\",\"over valued\",\"over valued\",\"over valued\",\"under valued\",\"over valued\",\"under valued\",\"under valued\",\"under valued\",\"under valued\",\"over valued\",\"under valued\",\"under valued\"],\"team\":[\"FA\",\"FA\",\"FA\",\"FA\",\"FA\",\"FA\",\"FA\",\"FA\",\"FA\",\"FA\",\"FA\",\"FA\",\"FA\",\"FA\",\"FA\",\"FA\",\"FA\",\"FA\",\"FA\",\"FA\",\"FA\",\"FA\",\"FA\",\"FA\",\"FA\",\"FA\",\"FA\",\"FA\",\"FA\",\"FA\",\"FA\",\"FA\",\"FA\",\"FA\",\"FA\",\"FA\",\"FA\",\"FA\",\"FA\",\"FA\",\"FA\",\"FA\",\"FA\",\"FA\",\"FA\",\"FA\",\"FA\",\"FA\",\"FA\",\"FA\",\"FA\",\"FA\",\"FA\",\"FA\",\"FA\",\"FA\",\"FA\",\"FA\",\"FA\",\"FA\",\"FA\",\"FA\",\"FA\",\"FA\",\"FA\",\"FA\",\"FA\",\"FA\",\"FA\",\"FA\",\"FA\",\"FA\",\"FA\",\"FA\",\"FA\",\"FA\",\"FA\",\"FA\",\"FA\",\"FA\",\"FA\",\"FA\",\"FA\",\"FA\",\"FA\",\"FA\",\"FA\",\"FA\",\"FA\",\"FA\",\"FA\",\"FA\",\"FA\",\"FA\",\"FA\",\"FA\",\"FA\",\"FA\",\"FA\",\"FA\",\"FA\",\"FA\",\"FA\",\"FA\",\"FA\",\"FA\",\"FA\",\"FA\",\"FA\",\"FA\",\"FA\",\"FA\",\"FA\",\"FA\",\"FA\",\"FA\",\"FA\",\"FA\",\"FA\",\"FA\"],\"x\":[\"Antonio Brown PIT\",\"Odell Beckham Jr. NYG\",\"Julio Jones ATL\",\"Todd Gurley LA\",\"David Johnson ARI\",\"Adrian Peterson MIN\",\"Ezekiel Elliott DAL\",\"DeAndre Hopkins HOU\",\"A.J. Green CIN\",\"Rob Gronkowski NE\",\"Dez Bryant DAL\",\"Lamar Miller HOU\",\"Allen Robinson JAC\",\"Le'Veon Bell PIT\",\"Jordy Nelson GB\",\"Jamaal Charles KC\",\"Alshon Jeffery CHI\",\"Mike Evans TB\",\"Doug Martin TB\",\"Devonta Freeman ATL\",\"Mark Ingram NO\",\"Brandon Marshall NYJ\",\"Keenan Allen SD\",\"Eddie Lacy GB\",\"Brandin Cooks NO\",\"LeSean McCoy BUF\",\"Amari Cooper OAK\",\"Demaryius Thomas DEN\",\"T.Y. Hilton IND\",\"C.J. Anderson DEN\",\"Cam Newton CAR\",\"Aaron Rodgers GB\",\"Sammy Watkins BUF\",\"Carlos Hyde SF\",\"Matt Forte NYJ\",\"Randall Cobb GB\",\"Russell Wilson SEA\",\"Andrew Luck IND\",\"Thomas Rawls SEA\",\"Jeremy Maclin KC\",\"Jordan Reed WAS\",\"Julian Edelman NE\",\"Greg Olsen CAR\",\"Golden Tate DET\",\"Latavius Murray OAK\",\"Kelvin Benjamin CAR\",\"DeMarco Murray TEN\",\"Jonathan Stewart CAR\",\"Jarvis Landry MIA\",\"Eric Decker NYJ\",\"Doug Baldwin SEA\",\"Drew Brees NO\",\"Jeremy Hill CIN\",\"Ryan Mathews PHI\",\"Dion Lewis NE\",\"Matt Jones WAS\",\"Michael Floyd ARI\",\"Ben Roethlisberger PIT\",\"Larry Fitzgerald ARI\",\"Donte Moncrief IND\",\"Jordan Matthews PHI\",\"John Brown ARI\",\"Frank Gore IND\",\"Devante Parker MIA\",\"Travis Kelce KC\",\"Emmanuel Sanders DEN\",\"Carson Palmer ARI\",\"Giovani Bernard CIN\",\"Melvin Gordon SD\",\"Jeremy Langford CHI\",\"Allen Hurns JAC\",\"Delanie Walker TEN\",\"DeSean Jackson WAS\",\"Duke Johnson CLE\",\"Jay Ajayi MIA\",\"Ameer Abdullah DET\",\"Tyler Lockett SEA\",\"Chris Ivory JAC\",\"Blake Bortles JAC\",\"Michael Crabtree OAK\",\"Eli Manning NYG\",\"Tom Brady NE\",\"Coby Fleener NO\",\"Tyler Eifert CIN\",\"Marvin Jones DET\",\"Danny Woodhead SD\",\"Kevin White CHI\",\"T.J. Yeldon JAC\",\"Philip Rivers SD\",\"Gary Barnidge CLE\",\"Rashad Jennings NYG\",\"Julius Thomas JAC\",\"Zach Ertz PHI\",\"Corey Coleman CLE\",\"Ladarius Green PIT\",\"Tony Romo DAL\",\"Justin Forsett BAL\",\"Willie Snead NO\",\"Arian Foster MIA\",\"Antonio Gates SD\",\"Torrey Smith SF\",\"Charles Sims TB\",\"Derek Carr OAK\",\"Sterling Shepard NYG\",\"Markus Wheaton PIT\",\"Tavon Austin LA\",\"DeAngelo Williams PIT\",\"Derrick Henry TEN\",\"Isaiah Crowell CLE\",\"Vincent Jackson TB\",\"Dorial Green-Beckham TEN\",\"Stefon Diggs MIN\",\"Laquon Treadwell MIN\",\"Steve Smith BAL\",\"Andy Dalton CIN\",\"Kirk Cousins WAS\",\"Travis Benjamin SD\",\"Jameis Winston TB\",\"Tyrod Taylor BUF\",\"Kenneth Dixon BAL\"],\"y\":[1.4,3.4,3.8,4.7,7.4,8.2,9.0,9.5,10.3,10.6,10.6,11.7,15.1,16.0,16.1,16.2,19.6,20.2,21.3,21.7,21.7,24.5,24.8,25.0,25.7,25.9,26.3,30.1,30.2,31.6,32.3,34.3,34.6,36.6,37.3,39.8,42.6,43.5,43.8,44.1,44.1,45.4,45.6,46.5,47.1,47.2,49.5,50.6,50.7,51.3,52.5,52.5,53.5,55.4,55.7,57.9,57.9,58.5,62.5,62.8,64.1,66.0,66.0,66.3,66.7,66.7,68.9,70.5,71.0,71.1,71.4,72.9,73.8,74.7,75.3,76.1,80.0,81.1,83.1,83.3,84.4,85.3,86.0,86.0,86.0,86.2,88.0,88.7,90.2,91.3,96.1,98.0,98.2,98.8,99.7,102.2,102.9,103.7,104.6,105.1,105.1,106.7,107.3,108.3,110.8,111.2,112.4,112.4,112.5,112.5,113.9,114.6,115.0,115.7,116.1,116.6,117.4,118.3,119.0,119.4]}},\"id\":\"0def38bb-20e7-41ad-abe8-25411b2db2f0\",\"type\":\"ColumnDataSource\"},{\"attributes\":{},\"id\":\"189337b6-1b48-4177-a04a-c4ac6328021a\",\"type\":\"CategoricalTicker\"},{\"attributes\":{\"child\":{\"id\":\"4799e5fb-5a3d-4b41-b155-68d724579271\",\"subtype\":\"Figure\",\"type\":\"Plot\"},\"title\":\"WR\"},\"id\":\"ae9c685a-a220-4896-ad7b-f792a0b89223\",\"type\":\"Panel\"},{\"attributes\":{},\"id\":\"6ff4fc7a-4774-4fc2-8286-817a49b7a466\",\"type\":\"ToolEvents\"},{\"attributes\":{},\"id\":\"2d23e7fa-a66a-4a49-b66a-a6dc44fc1504\",\"type\":\"ToolEvents\"}],\"root_ids\":[\"c2973612-6a27-4943-b777-9a9ba3ceaa61\",\"6ad85410-86c0-48f6-bdb2-e8fa460b42bc\",\"4799e5fb-5a3d-4b41-b155-68d724579271\",\"1599e492-2fdb-4b8c-8495-7cb928cfde9a\",\"ac30fd58-e5f1-431d-acbe-0510984e546a\",\"4cb39b47-ceda-4e52-a353-9ef559d9bc68\"]},\"title\":\"Bokeh Application\",\"version\":\"0.11.1\"}};\n",
       "            var render_items = [{\"docid\":\"b88210e4-d6b9-4570-8fc3-5599062bda2a\",\"elementid\":\"0c063495-be27-4dee-a335-47f94365267c\",\"modelid\":\"4cb39b47-ceda-4e52-a353-9ef559d9bc68\",\"notebook_comms_target\":\"d197bfe7-f1c9-450d-8542-b418fccb95ce\"}];\n",
       "            \n",
       "            Bokeh.embed.embed_items(docs_json, render_items);\n",
       "        });\n",
       "      },\n",
       "      function(Bokeh) {\n",
       "      }\n",
       "    ];\n",
       "  \n",
       "    function run_inline_js() {\n",
       "      for (var i = 0; i < inline_js.length; i++) {\n",
       "        inline_js[i](window.Bokeh);\n",
       "      }\n",
       "    }\n",
       "  \n",
       "    if (window._bokeh_is_loading === 0) {\n",
       "      console.log(\"Bokeh: BokehJS loaded, going straight to plotting\");\n",
       "      run_inline_js();\n",
       "    } else {\n",
       "      load_libs(js_urls, function() {\n",
       "        console.log(\"Bokeh: BokehJS plotting callback run at\", now());\n",
       "        run_inline_js();\n",
       "      });\n",
       "    }\n",
       "  }(this));\n",
       "</script>"
      ]
     },
     "metadata": {},
     "output_type": "display_data"
    },
    {
     "data": {
      "text/html": [
       "<p><code>&lt;Bokeh Notebook handle for <strong>In[20]</strong>&gt;</code></p>"
      ],
      "text/plain": [
       "<bokeh.io._CommsHandle at 0xcd2fda0>"
      ]
     },
     "execution_count": 20,
     "metadata": {},
     "output_type": "execute_result"
    }
   ],
   "source": [
    "output_notebook()\n",
    "tabs_list = []\n",
    "for p in positions:\n",
    "    tabs_list.append(make_plot(rankings_2016[rankings_2016.position ==p],p))\n",
    "tabs_list.append(make_plot(rankings_2016, 'All'))\n",
    "tabs = Tabs(tabs=tabs_list)\n",
    "show(tabs)"
   ]
  },
  {
   "cell_type": "code",
   "execution_count": null,
   "metadata": {
    "collapsed": true
   },
   "outputs": [],
   "source": []
  }
 ],
 "metadata": {
  "kernelspec": {
   "display_name": "Python 2",
   "language": "python",
   "name": "python2"
  },
  "language_info": {
   "codemirror_mode": {
    "name": "ipython",
    "version": 2
   },
   "file_extension": ".py",
   "mimetype": "text/x-python",
   "name": "python",
   "nbconvert_exporter": "python",
   "pygments_lexer": "ipython2",
   "version": "2.7.11"
  }
 },
 "nbformat": 4,
 "nbformat_minor": 0
}

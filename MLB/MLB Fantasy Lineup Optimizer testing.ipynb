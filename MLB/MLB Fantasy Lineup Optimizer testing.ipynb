{
 "cells": [
  {
   "cell_type": "code",
   "execution_count": 182,
   "metadata": {
    "collapsed": true
   },
   "outputs": [],
   "source": [
    "import csv\n",
    "import numpy as np\n",
    "import pandas as pd\n",
    "from pandas import Series,DataFrame"
   ]
  },
  {
   "cell_type": "code",
   "execution_count": 183,
   "metadata": {
    "collapsed": true
   },
   "outputs": [],
   "source": [
    "class Player():\n",
    "    def __init__(self, position, name, salary, points, value, team):\n",
    "        self.self = self\n",
    "        self.position = position\n",
    "        self.name = name\n",
    "        self.salary = salary\n",
    "        self.points = points\n",
    "        self.value = value\n",
    "        self.team = team\n",
    "        \n",
    "    def __iter__(self):\n",
    "        return iter(self.list)\n",
    "    \n",
    "    def __str__(self):\n",
    "        return \"{} {} {} {} {}\".format(self.name,self.position,self.salary, self.points, self.team)"
   ]
  },
  {
   "cell_type": "code",
   "execution_count": 184,
   "metadata": {
    "collapsed": true
   },
   "outputs": [],
   "source": [
    "# This csv contains our predictions and salaries for each player. \n",
    "# We parse each row of the csv and convert it into a Player object.\n",
    "with open('DKSalaries.csv', 'r') as data:\n",
    "    reader = csv.reader(data)\n",
    "    reader.next()\n",
    "    players = []\n",
    "    for row in reader:\n",
    "        name = row[1]\n",
    "        position = row[0]\n",
    "        salary = int(row[2])\n",
    "        points = float(row[4])\n",
    "        value = points / salary \n",
    "        team = row[5]\n",
    "        player = Player(position, name, salary, points, value, team)\n",
    "        players.append(player)"
   ]
  },
  {
   "cell_type": "markdown",
   "metadata": {},
   "source": [
    "**The Greedy Approach**\n",
    "\n",
    "Greedy Algorithms are quite simple. You prioritize a list of objects, and then you select the objects in that order, as long as they don't violate some constraint. For our scenario, the constraints are the overall budget you can spend on your team, and the required number of players in each position. The tricky part in developing a greedy algorithm is determining the correct way to prioritize the objects.\n",
    "One way that seems reasonable to prioritize players is by their expected point production. We would select the available player that we predict to have the best game, as long as we can afford them, and have room in their position group. Let's see what type of team this approach creates:"
   ]
  },
  {
   "cell_type": "code",
   "execution_count": 185,
   "metadata": {
    "collapsed": true
   },
   "outputs": [],
   "source": [
    "def points_knapsack(players):\n",
    "    budget = 50000\n",
    "    current_team_salary = 0\n",
    "    constraints = {\n",
    "        'P':2,\n",
    "        'C':1,\n",
    "        '1B':1,\n",
    "        '2B':1,\n",
    "        '3B':1,\n",
    "        'SS':1,\n",
    "        'OF':3\n",
    "        }\n",
    "    \n",
    "    counts = {\n",
    "        'P':0,\n",
    "        'C':0,\n",
    "        '1B':0,\n",
    "        '2B':0,\n",
    "        '3B':0,\n",
    "        'SS':0,\n",
    "        'OF':0\n",
    "        }\n",
    "    \n",
    "    players.sort(key=lambda x: x.points, reverse=True)\n",
    "    team = []\n",
    "    \n",
    "    for player in players:\n",
    "        nam = player.name\n",
    "        pos = player.position\n",
    "        if \"/\" in pos:\n",
    "            pos=pos[:pos.index(\"/\")]\n",
    "        if \"P\" in pos:\n",
    "            pos=\"P\"\n",
    "        sal = player.salary\n",
    "        pts = player.points\n",
    "        if counts[pos] < constraints[pos] and current_team_salary + sal <= budget:\n",
    "            team.append(player)\n",
    "            counts[pos] = counts[pos] + 1\n",
    "            current_team_salary += sal\n",
    "\n",
    "    return team"
   ]
  },
  {
   "cell_type": "code",
   "execution_count": 186,
   "metadata": {
    "collapsed": false
   },
   "outputs": [
    {
     "name": "stdout",
     "output_type": "stream",
     "text": [
      "Drew Pomeranz SP 10600 21.771 Bos\n",
      "Jeremy Hellickson SP 7500 15.182 Phi\n",
      "Mike Trout OF 5200 10.564 LAA\n",
      "Mookie Betts OF 5300 10.407 Bos\n",
      "David Ortiz 1B 5600 10.256 Bos\n",
      "Matt Carpenter 2B/3B 5400 9.846 StL\n",
      "Ian Desmond OF 4300 9.766 Tex\n",
      "Xander Bogaerts SS 4500 9.629 Bos\n",
      "\n",
      "Points: 97.421\n",
      "Salary: 48400\n"
     ]
    }
   ],
   "source": [
    "team = points_knapsack(players)\n",
    "points = 0\n",
    "salary = 0 \n",
    "for player in team:\n",
    "    points += player.points\n",
    "    salary += player.salary\n",
    "    print player\n",
    "print \"\\nPoints: {}\".format(points)\n",
    "print \"Salary: {}\".format(salary)"
   ]
  },
  {
   "cell_type": "markdown",
   "metadata": {},
   "source": [
    "Oops.\n",
    "\n",
    "There's a slight problem here: we didn't end up with enough players on our team. A valid team has 10 players, ours only has 8. After picking 8 players, we have used 48,400 of our 50,000 budget. We don't have enough money left to afford even the cheapest available player, and we still need four more players. There are ways around this: rather than adding a player as long as he doesn't put us over the budget, we could make sure that after adding him we still had the budget left to fill out our team with the cheapest possible players at each position.\n",
    "\n",
    "This approach would leave us with a very \"top-heavy\" team: a few really good players, and a few \"bottom of the barrel\" players. This isn't necessarily a bad thing, but let's try a different approach.\n",
    "\n",
    "Prioritizing by Points per Dollar\n",
    "\n",
    "Rather than prioritizing by expected point production, let's try prioritizing by expected points per dollar of cost."
   ]
  },
  {
   "cell_type": "code",
   "execution_count": 187,
   "metadata": {
    "collapsed": false
   },
   "outputs": [],
   "source": [
    "def value_knapsack(players):\n",
    "    budget = 50000\n",
    "    current_team_salary = 0\n",
    "    constraints = {\n",
    "        'P':2,\n",
    "        'C':1,\n",
    "        '1B':1,\n",
    "        '2B':1,\n",
    "        '3B':1,\n",
    "        'SS':1,\n",
    "        'OF':3\n",
    "        }\n",
    "    \n",
    "    counts = {\n",
    "        'P':0,\n",
    "        'C':0,\n",
    "        '1B':0,\n",
    "        '2B':0,\n",
    "        '3B':0,\n",
    "        'SS':0,\n",
    "        'OF':0\n",
    "        }\n",
    "    \n",
    "    players.sort(key=lambda x: x.value, reverse=True)\n",
    "    team = []\n",
    "    \n",
    "    for player in players:\n",
    "        nam = player.name\n",
    "        pos = player.position\n",
    "        if \"/\" in pos:\n",
    "            pos=pos[:pos.index(\"/\")]\n",
    "        if \"P\" in pos:\n",
    "            pos=\"P\"\n",
    "        sal = player.salary\n",
    "        pts = player.points\n",
    "        if counts[pos] < constraints[pos] and current_team_salary + sal <= budget:\n",
    "            team.append(player)\n",
    "            counts[pos] = counts[pos] + 1\n",
    "            current_team_salary += sal\n",
    "\n",
    "    return team"
   ]
  },
  {
   "cell_type": "code",
   "execution_count": 188,
   "metadata": {
    "collapsed": false
   },
   "outputs": [
    {
     "name": "stdout",
     "output_type": "stream",
     "text": [
      "Brett Nicholas C 2100 7.5 Tex\n",
      "Josh Bell OF 2700 7.75 Pit\n",
      "Prince Fielder 1B 2100 5.831 Tex\n",
      "Marcell Ozuna OF 3200 8.371 Mia\n",
      "Odubel Herrera OF 3000 7.745 Phi\n",
      "Johnny Giavotella 2B 2300 5.878 LAA\n",
      "Freddy Galvis SS 2300 5.839 Phi\n",
      "Martin Perez SP 4000 9.958 Tex\n",
      "Matt Cain SP 4000 8.509 SF\n",
      "Martin Prado 3B 3400 7.034 Mia\n",
      "\n",
      "Points: 74.415\n",
      "Salary: 29100\n"
     ]
    }
   ],
   "source": [
    "team = value_knapsack(players)\n",
    "points = 0\n",
    "salary = 0\n",
    "for player in team:\n",
    "    points += player.points\n",
    "    salary += player.salary\n",
    "    print player\n",
    "print \"\\nPoints: {}\".format(points)\n",
    "print \"Salary: {}\".format(salary)"
   ]
  },
  {
   "cell_type": "markdown",
   "metadata": {},
   "source": [
    "We got a valid team, but it doesn't seem quite \"optimal.\" We ended up using only 29300 of our 50000 budget. We optimized for \"value\" but that's not exactly what we want, we want to optimize for points.\n",
    "\n",
    "Improving on Points per Dollar\n",
    "\n",
    "This approach seems promising though; we have a team full of under-valued players. We can try to replace some of the under-valued players that aren't predicted to get many points with some players with worse points per dollar ratios, but more expected points."
   ]
  },
  {
   "cell_type": "code",
   "execution_count": 189,
   "metadata": {
    "collapsed": true
   },
   "outputs": [],
   "source": [
    "def improved_knapsack(players):\n",
    "    budget = 50000\n",
    "    current_team_salary = 0\n",
    "    constraints = {\n",
    "        'P':2,\n",
    "        'C':1,\n",
    "        '1B':1,\n",
    "        '2B':1,\n",
    "        '3B':1,\n",
    "        'SS':1,\n",
    "        'OF':3\n",
    "        }\n",
    "    \n",
    "    counts = {\n",
    "        'P':0,\n",
    "        'C':0,\n",
    "        '1B':0,\n",
    "        '2B':0,\n",
    "        '3B':0,\n",
    "        'SS':0,\n",
    "        'OF':0\n",
    "        }\n",
    "    \n",
    "    players.sort(key=lambda x: x.value, reverse=True)\n",
    "    team = []\n",
    "    \n",
    "    for player in players:\n",
    "        nam = player.name\n",
    "        pos = player.position\n",
    "        if \"/\" in pos:\n",
    "            pos=pos[:pos.index(\"/\")]\n",
    "        if \"P\" in pos:\n",
    "            pos=\"P\"\n",
    "        sal = player.salary\n",
    "        pts = player.points\n",
    "        if counts[pos] < constraints[pos] and current_team_salary + sal <= budget:\n",
    "            team.append(player)\n",
    "            counts[pos] = counts[pos] + 1\n",
    "            current_team_salary += sal\n",
    "    \n",
    "    players.sort(key=lambda x: x.points, reverse=True)\n",
    "    for player in players:\n",
    "        nam = player.name\n",
    "        pos = player.position\n",
    "        sal = player.salary\n",
    "        pts = player.points\n",
    "        if player not in team:\n",
    "            pos_players = [ x for x in team if x.position == pos]\n",
    "            pos_players.sort(key=lambda x: x.points)\n",
    "            for pos_player in pos_players:\n",
    "                if (current_team_salary + sal - pos_player.salary) <= budget and pts > pos_player.points:\n",
    "                    team[team.index(pos_player)] = player\n",
    "                    current_team_salary = current_team_salary + sal - pos_player.salary\n",
    "                    break\n",
    "    return team"
   ]
  },
  {
   "cell_type": "code",
   "execution_count": 190,
   "metadata": {
    "collapsed": false
   },
   "outputs": [
    {
     "name": "stdout",
     "output_type": "stream",
     "text": [
      "Sandy Leon C 3200 7.909 Bos\n",
      "Mookie Betts OF 5300 10.407 Bos\n",
      "David Ortiz 1B 5600 10.256 Bos\n",
      "Ian Desmond OF 4300 9.766 Tex\n",
      "Mike Trout OF 5200 10.564 LAA\n",
      "Johnny Giavotella 2B 2300 5.878 LAA\n",
      "Freddy Galvis SS 2300 5.839 Phi\n",
      "Jeremy Hellickson SP 7500 15.182 Phi\n",
      "Drew Pomeranz SP 10600 21.771 Bos\n",
      "Anthony Rendon 3B 3700 7.589 Was\n",
      "\n",
      "Points: 105.161\n",
      "Salary: 50000\n"
     ]
    }
   ],
   "source": [
    "team = improved_knapsack(players)\n",
    "points = 0\n",
    "salary = 0\n",
    "p=[]\n",
    "for player in team:\n",
    "    points += player.points\n",
    "    salary += player.salary\n",
    "    p.append(str(player).split(\" \"))\n",
    "    print player\n",
    "print \"\\nPoints: {}\".format(points)\n",
    "print \"Salary: {}\".format(salary)"
   ]
  },
  {
   "cell_type": "code",
   "execution_count": null,
   "metadata": {
    "collapsed": false
   },
   "outputs": [],
   "source": []
  },
  {
   "cell_type": "code",
   "execution_count": 191,
   "metadata": {
    "collapsed": false
   },
   "outputs": [
    {
     "data": {
      "text/html": [
       "<div>\n",
       "<table border=\"1\" class=\"dataframe\">\n",
       "  <thead>\n",
       "    <tr style=\"text-align: right;\">\n",
       "      <th></th>\n",
       "      <th>Position</th>\n",
       "      <th>Name</th>\n",
       "      <th>Salary</th>\n",
       "      <th>GameInfo</th>\n",
       "      <th>AvgPointsPerGame</th>\n",
       "      <th>teamAbbrev</th>\n",
       "    </tr>\n",
       "  </thead>\n",
       "  <tbody>\n",
       "    <tr>\n",
       "      <th>0</th>\n",
       "      <td>C</td>\n",
       "      <td>A.J. Ellis</td>\n",
       "      <td>2800</td>\n",
       "      <td>LAD@Was 07:05PM ET</td>\n",
       "      <td>3.477</td>\n",
       "      <td>LAD</td>\n",
       "    </tr>\n",
       "    <tr>\n",
       "      <th>1</th>\n",
       "      <td>OF</td>\n",
       "      <td>Aaron Altherr</td>\n",
       "      <td>3300</td>\n",
       "      <td>Mia@Phi 07:05PM ET</td>\n",
       "      <td>0.000</td>\n",
       "      <td>Phi</td>\n",
       "    </tr>\n",
       "    <tr>\n",
       "      <th>2</th>\n",
       "      <td>OF</td>\n",
       "      <td>Aaron Hicks</td>\n",
       "      <td>3100</td>\n",
       "      <td>Bal@NYY 07:05PM ET</td>\n",
       "      <td>3.244</td>\n",
       "      <td>NYY</td>\n",
       "    </tr>\n",
       "    <tr>\n",
       "      <th>3</th>\n",
       "      <td>2B/3B</td>\n",
       "      <td>Aaron Hill</td>\n",
       "      <td>3800</td>\n",
       "      <td>SF@Bos 07:10PM ET</td>\n",
       "      <td>6.366</td>\n",
       "      <td>Bos</td>\n",
       "    </tr>\n",
       "    <tr>\n",
       "      <th>4</th>\n",
       "      <td>OF</td>\n",
       "      <td>Aaron Judge</td>\n",
       "      <td>3100</td>\n",
       "      <td>Bal@NYY 07:05PM ET</td>\n",
       "      <td>0.000</td>\n",
       "      <td>NYY</td>\n",
       "    </tr>\n",
       "  </tbody>\n",
       "</table>\n",
       "</div>"
      ],
      "text/plain": [
       "  Position           Name  Salary            GameInfo  AvgPointsPerGame  \\\n",
       "0        C     A.J. Ellis    2800  LAD@Was 07:05PM ET             3.477   \n",
       "1       OF  Aaron Altherr    3300  Mia@Phi 07:05PM ET             0.000   \n",
       "2       OF    Aaron Hicks    3100  Bal@NYY 07:05PM ET             3.244   \n",
       "3    2B/3B     Aaron Hill    3800   SF@Bos 07:10PM ET             6.366   \n",
       "4       OF    Aaron Judge    3100  Bal@NYY 07:05PM ET             0.000   \n",
       "\n",
       "  teamAbbrev  \n",
       "0        LAD  \n",
       "1        Phi  \n",
       "2        NYY  \n",
       "3        Bos  \n",
       "4        NYY  "
      ]
     },
     "execution_count": 191,
     "metadata": {},
     "output_type": "execute_result"
    }
   ],
   "source": [
    "mlbDF=pd.read_csv('DKSalaries.csv')\n",
    "mlbDF.head()"
   ]
  },
  {
   "cell_type": "code",
   "execution_count": 192,
   "metadata": {
    "collapsed": false
   },
   "outputs": [
    {
     "name": "stdout",
     "output_type": "stream",
     "text": [
      "<class 'pandas.core.frame.DataFrame'>\n",
      "RangeIndex: 315 entries, 0 to 314\n",
      "Data columns (total 6 columns):\n",
      "Position            315 non-null object\n",
      "Name                315 non-null object\n",
      "Salary              315 non-null int64\n",
      "GameInfo            315 non-null object\n",
      "AvgPointsPerGame    315 non-null float64\n",
      "teamAbbrev          315 non-null object\n",
      "dtypes: float64(1), int64(1), object(4)\n",
      "memory usage: 14.8+ KB\n"
     ]
    }
   ],
   "source": [
    "mlbDF.info()"
   ]
  },
  {
   "cell_type": "code",
   "execution_count": null,
   "metadata": {
    "collapsed": false
   },
   "outputs": [],
   "source": []
  },
  {
   "cell_type": "code",
   "execution_count": null,
   "metadata": {
    "collapsed": true
   },
   "outputs": [],
   "source": []
  },
  {
   "cell_type": "code",
   "execution_count": null,
   "metadata": {
    "collapsed": false
   },
   "outputs": [],
   "source": []
  },
  {
   "cell_type": "code",
   "execution_count": null,
   "metadata": {
    "collapsed": true
   },
   "outputs": [],
   "source": []
  }
 ],
 "metadata": {
  "kernelspec": {
   "display_name": "Python 2",
   "language": "python",
   "name": "python2"
  },
  "language_info": {
   "codemirror_mode": {
    "name": "ipython",
    "version": 2
   },
   "file_extension": ".py",
   "mimetype": "text/x-python",
   "name": "python",
   "nbconvert_exporter": "python",
   "pygments_lexer": "ipython2",
   "version": "2.7.11"
  }
 },
 "nbformat": 4,
 "nbformat_minor": 0
}
